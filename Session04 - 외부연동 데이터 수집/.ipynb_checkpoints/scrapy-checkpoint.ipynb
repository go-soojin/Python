{
 "cells": [
  {
   "cell_type": "markdown",
   "id": "db7103b3",
   "metadata": {},
   "source": [
    "## 1. pandas 데이터 프레임"
   ]
  },
  {
   "cell_type": "code",
   "execution_count": 2,
   "id": "e821a02c",
   "metadata": {},
   "outputs": [],
   "source": [
    "import pandas as pd"
   ]
  },
  {
   "cell_type": "markdown",
   "id": "1e12402a",
   "metadata": {},
   "source": [
    "## 리스트에서 데이터 프레임 생성하기"
   ]
  },
  {
   "cell_type": "code",
   "execution_count": 4,
   "id": "f50a7b26",
   "metadata": {},
   "outputs": [],
   "source": [
    "rowFirst = [\"A01\", 202015, 100]\n",
    "rowSecond = [\"A01\", 202016, 110]\n",
    "rowThird = [\"A01\", 202017, 150]"
   ]
  },
  {
   "cell_type": "code",
   "execution_count": 13,
   "id": "966b89ec",
   "metadata": {},
   "outputs": [],
   "source": [
    "df1 = pd.DataFrame([rowFirst, rowSecond, rowThird])"
   ]
  },
  {
   "cell_type": "code",
   "execution_count": 14,
   "id": "652a851a",
   "metadata": {},
   "outputs": [],
   "source": [
    "columnName = [\"REGIONID\", \"YEARWEEK\", \"QTY\"]"
   ]
  },
  {
   "cell_type": "code",
   "execution_count": 15,
   "id": "602856e6",
   "metadata": {},
   "outputs": [],
   "source": [
    "df1.columns = columnName"
   ]
  },
  {
   "cell_type": "code",
   "execution_count": 16,
   "id": "9360994e",
   "metadata": {},
   "outputs": [],
   "source": [
    "columnFirst = [\"A0\",\"A01\", \"A01\"]\n",
    "columnSecond = [202015,202016,202017]\n",
    "columnThird = [100,110,150]"
   ]
  },
  {
   "cell_type": "code",
   "execution_count": 17,
   "id": "98f436f4",
   "metadata": {},
   "outputs": [],
   "source": [
    "df2 = pd.DataFrame(zip(columnFirst, columnSecond, columnThird))"
   ]
  },
  {
   "cell_type": "code",
   "execution_count": 18,
   "id": "6a2ebe0f",
   "metadata": {},
   "outputs": [],
   "source": [
    "df2.columns = columnName"
   ]
  },
  {
   "cell_type": "code",
   "execution_count": 19,
   "id": "cb7f89d8",
   "metadata": {},
   "outputs": [
    {
     "data": {
      "text/html": [
       "<div>\n",
       "<style scoped>\n",
       "    .dataframe tbody tr th:only-of-type {\n",
       "        vertical-align: middle;\n",
       "    }\n",
       "\n",
       "    .dataframe tbody tr th {\n",
       "        vertical-align: top;\n",
       "    }\n",
       "\n",
       "    .dataframe thead th {\n",
       "        text-align: right;\n",
       "    }\n",
       "</style>\n",
       "<table border=\"1\" class=\"dataframe\">\n",
       "  <thead>\n",
       "    <tr style=\"text-align: right;\">\n",
       "      <th></th>\n",
       "      <th>REGIONID</th>\n",
       "      <th>YEARWEEK</th>\n",
       "      <th>QTY</th>\n",
       "    </tr>\n",
       "  </thead>\n",
       "  <tbody>\n",
       "    <tr>\n",
       "      <th>0</th>\n",
       "      <td>A0</td>\n",
       "      <td>202015</td>\n",
       "      <td>100</td>\n",
       "    </tr>\n",
       "    <tr>\n",
       "      <th>1</th>\n",
       "      <td>A01</td>\n",
       "      <td>202016</td>\n",
       "      <td>110</td>\n",
       "    </tr>\n",
       "    <tr>\n",
       "      <th>2</th>\n",
       "      <td>A01</td>\n",
       "      <td>202017</td>\n",
       "      <td>150</td>\n",
       "    </tr>\n",
       "  </tbody>\n",
       "</table>\n",
       "</div>"
      ],
      "text/plain": [
       "  REGIONID  YEARWEEK  QTY\n",
       "0       A0    202015  100\n",
       "1      A01    202016  110\n",
       "2      A01    202017  150"
      ]
     },
     "execution_count": 19,
     "metadata": {},
     "output_type": "execute_result"
    }
   ],
   "source": [
    "df2"
   ]
  },
  {
   "cell_type": "code",
   "execution_count": null,
   "id": "de8a3ad7",
   "metadata": {},
   "outputs": [],
   "source": []
  },
  {
   "cell_type": "markdown",
   "id": "fe9ec594",
   "metadata": {
    "tags": []
   },
   "source": [
    "### 1. 라이브러리 선언"
   ]
  },
  {
   "cell_type": "code",
   "execution_count": 3,
   "id": "a3cd61af",
   "metadata": {},
   "outputs": [],
   "source": [
    "from bs4 import BeautifulSoup # 태그를 아름답게 뜬다.\n",
    "import requests # 웹페이지 접속 요청"
   ]
  },
  {
   "cell_type": "markdown",
   "id": "7ad13cb9",
   "metadata": {},
   "source": [
    "### 2. 타겟 URL 선언 및 접속"
   ]
  },
  {
   "cell_type": "code",
   "execution_count": 4,
   "id": "bc9b005e",
   "metadata": {},
   "outputs": [],
   "source": [
    "targetUrl = \"http://www.sparkkorea.com/퀴즈\"\n",
    "\n",
    "resp = requests.get(url=targetUrl)\n",
    "\n",
    "resp.encoding=\"utf-8\"\n",
    "\n",
    "html=resp.text\n",
    "\n",
    "htmlObj = BeautifulSoup(html, \"html.parser\") \n",
    "htmlObj"
   ]
  },
  {
   "cell_type": "markdown",
   "id": "6463ef71",
   "metadata": {},
   "source": [
    "### 3. 태그값 접근하기"
   ]
  },
  {
   "cell_type": "markdown",
   "id": "10e4ed15",
   "metadata": {},
   "source": [
    "### 1. find로 범위를 좁힌다\n",
    "### 2. findAll 을 활용해서 반복하여 수집한다."
   ]
  },
  {
   "cell_type": "code",
   "execution_count": 9,
   "id": "f5e5d6af",
   "metadata": {
    "tags": []
   },
   "outputs": [
    {
     "data": {
      "text/plain": [
       "[<a class=\"skip-link screen-reader-text\" href=\"#content\">컨텐츠로 건너뛰기</a>,\n",
       " <a href=\"https://sparkkorea.com/\" rel=\"home\">\n",
       " \t\t\t\t\t스파크 코리아\t\t\t\t</a>,\n",
       " <a href=\"https://sparkkorea.com/%ec%9e%90%eb%a3%8c%ec%8b%a4/\">자료실</a>]"
      ]
     },
     "execution_count": 9,
     "metadata": {},
     "output_type": "execute_result"
    }
   ],
   "source": [
    "htmlObj.findAll(name=\"a\", limit = 3)"
   ]
  },
  {
   "cell_type": "code",
   "execution_count": 10,
   "id": "f824a069",
   "metadata": {},
   "outputs": [],
   "source": [
    "targetParent = htmlObj.find(name=\"div\", attrs = {\"id\":\"id_spark_quiz\"})"
   ]
  },
  {
   "cell_type": "code",
   "execution_count": 11,
   "id": "cc6b7a5c",
   "metadata": {},
   "outputs": [
    {
     "data": {
      "text/plain": [
       "<div class=\"class_spark_quiz\" id=\"id_spark_quiz\">\n",
       "<h1>Spark 퀴즈 </h1>\n",
       "<a href=\"https://forms.gle/Fw49w9GhWQChDcZm7\"> 6/13 Spark 심화과정 </a>\n",
       "<p></p>\n",
       "<a href=\"https://forms.gle/G4TcXm3fKuHLHA6D6\"> 6/13 Spark 기본과정 </a>\n",
       "<p></p>\n",
       "<a href=\"https://forms.gle/M8gr1kC2ubA3UDVp8\"> 6/18 Spark [MAP_FILTER] </a>\n",
       "<p></p>\n",
       "<a href=\"https://forms.gle/h8w5mZ4MNaPLCPbi6\"> 6/18 Spark GroupBy 심화 </a>\n",
       "<p></p>\n",
       "<a href=\"https://forms.gle/q5yL6QHfueDLM5w27\"> 6/25 Spark RDD 실전 분석 </a>\n",
       "<p></p>\n",
       "<a href=\"https://forms.gle/Gxb4y6LfVYiaLu4M7\"> 6/27 Spark RDD 실전 분석2 </a>\n",
       "<p></p>\n",
       "</div>"
      ]
     },
     "execution_count": 11,
     "metadata": {},
     "output_type": "execute_result"
    }
   ],
   "source": [
    "targetParent"
   ]
  },
  {
   "cell_type": "code",
   "execution_count": 12,
   "id": "b629b02d",
   "metadata": {},
   "outputs": [],
   "source": [
    "valueList = []\n",
    "valueList2 = []"
   ]
  },
  {
   "cell_type": "code",
   "execution_count": 13,
   "id": "b4f4d4db",
   "metadata": {},
   "outputs": [
    {
     "data": {
      "text/plain": [
       "[<a href=\"https://forms.gle/Fw49w9GhWQChDcZm7\"> 6/13 Spark 심화과정 </a>,\n",
       " <a href=\"https://forms.gle/G4TcXm3fKuHLHA6D6\"> 6/13 Spark 기본과정 </a>,\n",
       " <a href=\"https://forms.gle/M8gr1kC2ubA3UDVp8\"> 6/18 Spark [MAP_FILTER] </a>,\n",
       " <a href=\"https://forms.gle/h8w5mZ4MNaPLCPbi6\"> 6/18 Spark GroupBy 심화 </a>,\n",
       " <a href=\"https://forms.gle/q5yL6QHfueDLM5w27\"> 6/25 Spark RDD 실전 분석 </a>,\n",
       " <a href=\"https://forms.gle/Gxb4y6LfVYiaLu4M7\"> 6/27 Spark RDD 실전 분석2 </a>]"
      ]
     },
     "execution_count": 13,
     "metadata": {},
     "output_type": "execute_result"
    }
   ],
   "source": [
    "atags = targetParent.findAll(name= \"a\")\n",
    "atags"
   ]
  },
  {
   "cell_type": "code",
   "execution_count": 14,
   "id": "7c7d2a42",
   "metadata": {},
   "outputs": [],
   "source": [
    "for i in range(0,len(atags)):\n",
    "    # 각 태그정보 수집\n",
    "    eachTag = atags[i]\n",
    "    tagText = eachTag.text\n",
    "    # 리스트에 태그 내 text 정보 append\n",
    "    valueList.append(tagText)"
   ]
  },
  {
   "cell_type": "code",
   "execution_count": 17,
   "id": "bc55ba68",
   "metadata": {},
   "outputs": [
    {
     "data": {
      "text/plain": [
       "[' 6/13 Spark 심화과정 ',\n",
       " ' 6/13 Spark 기본과정 ',\n",
       " ' 6/18 Spark [MAP_FILTER] ',\n",
       " ' 6/18 Spark GroupBy 심화 ',\n",
       " ' 6/25 Spark RDD 실전 분석 ',\n",
       " ' 6/27 Spark RDD 실전 분석2 ']"
      ]
     },
     "execution_count": 17,
     "metadata": {},
     "output_type": "execute_result"
    }
   ],
   "source": [
    "valueList"
   ]
  },
  {
   "cell_type": "code",
   "execution_count": 16,
   "id": "71480437",
   "metadata": {},
   "outputs": [],
   "source": [
    "resultDf = pd.DataFrame(valueList,columns = [\"퀴즈타이틀\"])"
   ]
  },
  {
   "cell_type": "code",
   "execution_count": 156,
   "id": "08d8239a",
   "metadata": {},
   "outputs": [
    {
     "data": {
      "text/html": [
       "<div>\n",
       "<style scoped>\n",
       "    .dataframe tbody tr th:only-of-type {\n",
       "        vertical-align: middle;\n",
       "    }\n",
       "\n",
       "    .dataframe tbody tr th {\n",
       "        vertical-align: top;\n",
       "    }\n",
       "\n",
       "    .dataframe thead th {\n",
       "        text-align: right;\n",
       "    }\n",
       "</style>\n",
       "<table border=\"1\" class=\"dataframe\">\n",
       "  <thead>\n",
       "    <tr style=\"text-align: right;\">\n",
       "      <th></th>\n",
       "      <th>퀴즈타이틀</th>\n",
       "    </tr>\n",
       "  </thead>\n",
       "  <tbody>\n",
       "    <tr>\n",
       "      <th>0</th>\n",
       "      <td>6/13 Spark 심화과정</td>\n",
       "    </tr>\n",
       "    <tr>\n",
       "      <th>1</th>\n",
       "      <td>6/13 Spark 기본과정</td>\n",
       "    </tr>\n",
       "    <tr>\n",
       "      <th>2</th>\n",
       "      <td>6/18 Spark [MAP_FILTER]</td>\n",
       "    </tr>\n",
       "    <tr>\n",
       "      <th>3</th>\n",
       "      <td>6/18 Spark GroupBy 심화</td>\n",
       "    </tr>\n",
       "    <tr>\n",
       "      <th>4</th>\n",
       "      <td>6/25 Spark RDD 실전 분석</td>\n",
       "    </tr>\n",
       "    <tr>\n",
       "      <th>5</th>\n",
       "      <td>6/27 Spark RDD 실전 분석2</td>\n",
       "    </tr>\n",
       "  </tbody>\n",
       "</table>\n",
       "</div>"
      ],
      "text/plain": [
       "                       퀴즈타이틀\n",
       "0           6/13 Spark 심화과정 \n",
       "1           6/13 Spark 기본과정 \n",
       "2   6/18 Spark [MAP_FILTER] \n",
       "3     6/18 Spark GroupBy 심화 \n",
       "4      6/25 Spark RDD 실전 분석 \n",
       "5     6/27 Spark RDD 실전 분석2 "
      ]
     },
     "execution_count": 156,
     "metadata": {},
     "output_type": "execute_result"
    }
   ],
   "source": [
    "resultDf"
   ]
  },
  {
   "cell_type": "code",
   "execution_count": 157,
   "id": "e3c8a856",
   "metadata": {},
   "outputs": [],
   "source": [
    "for i in range(0,len(atags)):\n",
    "    # 각 태그정보 수집\n",
    "    eachTag = atags[i]\n",
    "    tagText = eachTag.attrs[\"href\"]\n",
    "    # 리스트에 태그 내 text 정보 append\n",
    "    valueList2.append(tagText)"
   ]
  },
  {
   "cell_type": "code",
   "execution_count": 158,
   "id": "4483cf38",
   "metadata": {},
   "outputs": [
    {
     "data": {
      "text/plain": [
       "['https://forms.gle/Fw49w9GhWQChDcZm7',\n",
       " 'https://forms.gle/G4TcXm3fKuHLHA6D6',\n",
       " 'https://forms.gle/M8gr1kC2ubA3UDVp8',\n",
       " 'https://forms.gle/h8w5mZ4MNaPLCPbi6',\n",
       " 'https://forms.gle/q5yL6QHfueDLM5w27',\n",
       " 'https://forms.gle/Gxb4y6LfVYiaLu4M7']"
      ]
     },
     "execution_count": 158,
     "metadata": {},
     "output_type": "execute_result"
    }
   ],
   "source": [
    "valueList2"
   ]
  },
  {
   "cell_type": "code",
   "execution_count": 174,
   "id": "f5e4c419",
   "metadata": {},
   "outputs": [],
   "source": [
    "DataFrame2=pd.DataFrame(zip(valueList,valueList2))"
   ]
  },
  {
   "cell_type": "code",
   "execution_count": 177,
   "id": "b438a6ba",
   "metadata": {},
   "outputs": [],
   "source": [
    "columnTitle = [\"퀴즈타이틀\", \"URL\"]"
   ]
  },
  {
   "cell_type": "code",
   "execution_count": 179,
   "id": "da96c473",
   "metadata": {},
   "outputs": [],
   "source": [
    "DataFrame2.columns = columnTitle"
   ]
  },
  {
   "cell_type": "code",
   "execution_count": 180,
   "id": "ed0826fe",
   "metadata": {},
   "outputs": [
    {
     "data": {
      "text/html": [
       "<div>\n",
       "<style scoped>\n",
       "    .dataframe tbody tr th:only-of-type {\n",
       "        vertical-align: middle;\n",
       "    }\n",
       "\n",
       "    .dataframe tbody tr th {\n",
       "        vertical-align: top;\n",
       "    }\n",
       "\n",
       "    .dataframe thead th {\n",
       "        text-align: right;\n",
       "    }\n",
       "</style>\n",
       "<table border=\"1\" class=\"dataframe\">\n",
       "  <thead>\n",
       "    <tr style=\"text-align: right;\">\n",
       "      <th></th>\n",
       "      <th>퀴즈타이틀</th>\n",
       "      <th>URL</th>\n",
       "    </tr>\n",
       "  </thead>\n",
       "  <tbody>\n",
       "    <tr>\n",
       "      <th>0</th>\n",
       "      <td>6/13 Spark 심화과정</td>\n",
       "      <td>https://forms.gle/Fw49w9GhWQChDcZm7</td>\n",
       "    </tr>\n",
       "    <tr>\n",
       "      <th>1</th>\n",
       "      <td>6/13 Spark 기본과정</td>\n",
       "      <td>https://forms.gle/G4TcXm3fKuHLHA6D6</td>\n",
       "    </tr>\n",
       "    <tr>\n",
       "      <th>2</th>\n",
       "      <td>6/18 Spark [MAP_FILTER]</td>\n",
       "      <td>https://forms.gle/M8gr1kC2ubA3UDVp8</td>\n",
       "    </tr>\n",
       "    <tr>\n",
       "      <th>3</th>\n",
       "      <td>6/18 Spark GroupBy 심화</td>\n",
       "      <td>https://forms.gle/h8w5mZ4MNaPLCPbi6</td>\n",
       "    </tr>\n",
       "    <tr>\n",
       "      <th>4</th>\n",
       "      <td>6/25 Spark RDD 실전 분석</td>\n",
       "      <td>https://forms.gle/q5yL6QHfueDLM5w27</td>\n",
       "    </tr>\n",
       "    <tr>\n",
       "      <th>5</th>\n",
       "      <td>6/27 Spark RDD 실전 분석2</td>\n",
       "      <td>https://forms.gle/Gxb4y6LfVYiaLu4M7</td>\n",
       "    </tr>\n",
       "  </tbody>\n",
       "</table>\n",
       "</div>"
      ],
      "text/plain": [
       "                       퀴즈타이틀                                  URL\n",
       "0           6/13 Spark 심화과정   https://forms.gle/Fw49w9GhWQChDcZm7\n",
       "1           6/13 Spark 기본과정   https://forms.gle/G4TcXm3fKuHLHA6D6\n",
       "2   6/18 Spark [MAP_FILTER]   https://forms.gle/M8gr1kC2ubA3UDVp8\n",
       "3     6/18 Spark GroupBy 심화   https://forms.gle/h8w5mZ4MNaPLCPbi6\n",
       "4      6/25 Spark RDD 실전 분석   https://forms.gle/q5yL6QHfueDLM5w27\n",
       "5     6/27 Spark RDD 실전 분석2   https://forms.gle/Gxb4y6LfVYiaLu4M7"
      ]
     },
     "execution_count": 180,
     "metadata": {},
     "output_type": "execute_result"
    }
   ],
   "source": [
    "DataFrame2"
   ]
  },
  {
   "cell_type": "code",
   "execution_count": 4,
   "id": "a20408a8",
   "metadata": {},
   "outputs": [
    {
     "name": "stdout",
     "output_type": "stream",
     "text": [
      "Name: bs4\n",
      "Version: 0.0.1\n",
      "Summary: Screen-scraping library\n",
      "Home-page: https://pypi.python.org/pypi/beautifulsoup4\n",
      "Author: Leonard Richardson\n",
      "Author-email: leonardr@segfault.org\n",
      "License: MIT\n",
      "Location: c:\\users\\smart-07\\anaconda3\\lib\\site-packages\n",
      "Requires: beautifulsoup4\n",
      "Required-by: \n"
     ]
    }
   ],
   "source": [
    "!pip show bs4"
   ]
  },
  {
   "cell_type": "markdown",
   "id": "3e797810",
   "metadata": {},
   "source": [
    "## 테이블 스크랩"
   ]
  },
  {
   "cell_type": "code",
   "execution_count": 5,
   "id": "27332035",
   "metadata": {},
   "outputs": [],
   "source": [
    "from bs4 import BeautifulSoup"
   ]
  },
  {
   "cell_type": "code",
   "execution_count": 6,
   "id": "8f43d4a6",
   "metadata": {},
   "outputs": [],
   "source": [
    "import requests, bs4\n",
    "import pandas as pd\n",
    "\n",
    "#웹페이지 html 소스 가져오기\n",
    "targetUrl = \"http://sparkkorea.com/테스트\"\n",
    "\n",
    "resp = requests.get(url=targetUrl)\n",
    "\n",
    "resp.encoding=\"utf-8\"\n",
    "\n",
    "html = resp.text\n",
    "\n",
    "htmlObj = BeautifulSoup(html, \"html.parser\")"
   ]
  },
  {
   "cell_type": "code",
   "execution_count": 215,
   "id": "a58e1a52",
   "metadata": {},
   "outputs": [],
   "source": [
    "tableTag=htmlObj.find(name =\"table\", attrs = {\"id\":\"test_table\"} )"
   ]
  },
  {
   "cell_type": "code",
   "execution_count": 216,
   "id": "991285a2",
   "metadata": {},
   "outputs": [],
   "source": [
    "tbodyTag=tableTag.find(name=\"tbody\")"
   ]
  },
  {
   "cell_type": "code",
   "execution_count": 217,
   "id": "f6c5ce41",
   "metadata": {},
   "outputs": [],
   "source": [
    "rowList = []\n",
    "columnList = []"
   ]
  },
  {
   "cell_type": "code",
   "execution_count": 218,
   "id": "ffa65fbf",
   "metadata": {},
   "outputs": [],
   "source": [
    "trs = tbodyTag.find_all(\"tr\")"
   ]
  },
  {
   "cell_type": "code",
   "execution_count": 219,
   "id": "2474fa6a",
   "metadata": {},
   "outputs": [],
   "source": [
    "for j in range(0,len(trs)):\n",
    "    eachTr = trs[j]\n",
    "    tds = eachTr.find_all(\"td\")\n",
    "\n",
    "    for i in range(0,len(tds)):\n",
    "        eachTd = tds[i]\n",
    "        columnList.append(eachTd.text)\n",
    "\n",
    "# 한 행의 수집완료된 컬럼 값을 rowList에 붙인다.\n",
    "    rowList.append(columnList)\n",
    "# 다음 행의 컬럼을 다시 담기 위해 columnList를 초기화한다.\n",
    "    columnList = []"
   ]
  },
  {
   "cell_type": "code",
   "execution_count": 220,
   "id": "a5d2d3d7",
   "metadata": {},
   "outputs": [
    {
     "data": {
      "text/html": [
       "<div>\n",
       "<style scoped>\n",
       "    .dataframe tbody tr th:only-of-type {\n",
       "        vertical-align: middle;\n",
       "    }\n",
       "\n",
       "    .dataframe tbody tr th {\n",
       "        vertical-align: top;\n",
       "    }\n",
       "\n",
       "    .dataframe thead th {\n",
       "        text-align: right;\n",
       "    }\n",
       "</style>\n",
       "<table border=\"1\" class=\"dataframe\">\n",
       "  <thead>\n",
       "    <tr style=\"text-align: right;\">\n",
       "      <th></th>\n",
       "      <th>0</th>\n",
       "      <th>1</th>\n",
       "    </tr>\n",
       "  </thead>\n",
       "  <tbody>\n",
       "    <tr>\n",
       "      <th>0</th>\n",
       "      <td>101</td>\n",
       "      <td>김효관</td>\n",
       "    </tr>\n",
       "    <tr>\n",
       "      <th>1</th>\n",
       "      <td>102</td>\n",
       "      <td>이순신</td>\n",
       "    </tr>\n",
       "    <tr>\n",
       "      <th>2</th>\n",
       "      <td>103</td>\n",
       "      <td>김어진</td>\n",
       "    </tr>\n",
       "  </tbody>\n",
       "</table>\n",
       "</div>"
      ],
      "text/plain": [
       "     0    1\n",
       "0  101  김효관\n",
       "1  102  이순신\n",
       "2  103  김어진"
      ]
     },
     "execution_count": 220,
     "metadata": {},
     "output_type": "execute_result"
    }
   ],
   "source": [
    "pd.DataFrame(rowList)"
   ]
  },
  {
   "cell_type": "code",
   "execution_count": null,
   "id": "c460220b",
   "metadata": {},
   "outputs": [],
   "source": []
  }
 ],
 "metadata": {
  "kernelspec": {
   "display_name": "Python 3",
   "language": "python",
   "name": "python3"
  },
  "language_info": {
   "codemirror_mode": {
    "name": "ipython",
    "version": 3
   },
   "file_extension": ".py",
   "mimetype": "text/x-python",
   "name": "python",
   "nbconvert_exporter": "python",
   "pygments_lexer": "ipython3",
   "version": "3.8.3"
  }
 },
 "nbformat": 4,
 "nbformat_minor": 5
}
