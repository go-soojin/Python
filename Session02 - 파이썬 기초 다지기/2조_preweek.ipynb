{
 "cells": [
  {
   "cell_type": "code",
   "execution_count": 12,
   "metadata": {},
   "outputs": [],
   "source": [
    "def pastWeek2(inputYearWeek,minusWeek):\n",
    "    from isoweek import Week\n",
    "    #형변환\n",
    "    inputYear = int(str(inputYearWeek)[:4])\n",
    "    inputWeek = int(str(inputYearWeek)[4:])       \n",
    "    yearWeek = Week.last_week_of_year(inputYear).week   \n",
    "\n",
    "    # 년도가 바뀌지 않을 때\n",
    "    if inputWeek<=yearWeek:\n",
    "        JudgeWeek = minusWeek-inputWeek\n",
    "        \n",
    "        # minusWeek에서 inputWeek뺀 값을 JudgeWeek변수에 정의\n",
    "        if JudgeWeek < 0:    #빼야 할 주차에서 기준주차가 0보다 작다면\n",
    "                print(str(inputYear)+str(inputWeek-minusWeek))    #입력한 년주차의 년도와 연산한 주차정보 출력\n",
    "                \n",
    "    # 년도가 바뀔 때\n",
    "        ## judgeWeek=0일 때 0주차 값 변환 \n",
    "        elif inputWeek == minusWeek:     #빼고자 하는 주차의 값과 기준 주차의 값이 같을떄 \n",
    "                print(str(inputYear-1)+str(Week.last_week_of_year(inputYear-1).week))             \n",
    "    \n",
    "        elif JudgeWeek > 0:\n",
    "            for i in range (1, inputYear):\n",
    "             ## 반복한 횟수만큼 기준년도 감소   \n",
    "                calcYear = inputYear - i\n",
    "             ## 감소한 년도의 총 주차 \n",
    "                calcWeek = Week.last_week_of_year(inputYear-i).week\n",
    "             ## 기준주차에서 빼고자하는 주차가 더 크다면\n",
    "                if JudgeWeek > calcWeek:\n",
    "                     JudgeWeek = JudgeWeek-calcWeek\n",
    "\n",
    "             ## 기준주차가 더 클때\n",
    "                elif JudgeWeek < calcWeek: \n",
    "                    print(str(calcYear)+str(calcWeek-JudgeWeek))\n",
    "                    break;\n",
    "                    \n",
    "              ## 기준주차 - 빼고자할 주차가 같을때\n",
    "                elif JudgeWeek == calcWeek:\n",
    "                    print(str(inputYear-(i+1))+str(Week.last_week_of_year(inputYear-(i+1)).week))\n",
    "                    break;"
   ]
  },
  {
   "cell_type": "code",
   "execution_count": 14,
   "metadata": {},
   "outputs": [
    {
     "name": "stdout",
     "output_type": "stream",
     "text": [
      "201648\n"
     ]
    }
   ],
   "source": [
    "pastWeek2(201701,5)"
   ]
  },
  {
   "cell_type": "code",
   "execution_count": null,
   "metadata": {},
   "outputs": [],
   "source": []
  }
 ],
 "metadata": {
  "kernelspec": {
   "display_name": "Python 3",
   "language": "python",
   "name": "python3"
  },
  "language_info": {
   "codemirror_mode": {
    "name": "ipython",
    "version": 3
   },
   "file_extension": ".py",
   "mimetype": "text/x-python",
   "name": "python",
   "nbconvert_exporter": "python",
   "pygments_lexer": "ipython3",
   "version": "3.8.3"
  }
 },
 "nbformat": 4,
 "nbformat_minor": 4
}
