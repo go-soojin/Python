{
 "cells": [
  {
   "cell_type": "markdown",
   "metadata": {},
   "source": [
    "SCORE  변수를 80으로 선언 후\n",
    "90점이상 A, 80~90점 B, 이외 C 점수로\n",
    "GRADE변수에 할당하는 프로그램을 구현하세요"
   ]
  },
  {
   "cell_type": "code",
   "execution_count": 1,
   "metadata": {},
   "outputs": [],
   "source": [
    "score = 80 \n",
    "grade = \"A\""
   ]
  },
  {
   "cell_type": "code",
   "execution_count": 3,
   "metadata": {},
   "outputs": [
    {
     "name": "stdout",
     "output_type": "stream",
     "text": [
      "B\n"
     ]
    }
   ],
   "source": [
    "if score >= 90 :\n",
    "    grade = \"A\"\n",
    "elif score >= 80:\n",
    "    grade = \"B\"\n",
    "else:\n",
    "    grade=\"C\"\n",
    "print(grade)"
   ]
  },
  {
   "cell_type": "code",
   "execution_count": null,
   "metadata": {},
   "outputs": [],
   "source": [
    "tvList2 = [ 'UN40EN001', 'LEDTV_UN40EN002', 'LEDTV_LEDTV_UN40EN003', 'ledtv_UN40EN004']\n",
    "리스트에서 LEDTV_가 한 개만 앞에 붙도록 하세요\n",
    "(* 대소문자 구분없이 전부 처리!)"
   ]
  },
  {
   "cell_type": "code",
   "execution_count": 43,
   "metadata": {},
   "outputs": [],
   "source": [
    "tvList2 = [ 'UN40EN001', \n",
    "           'LEDTV_UN40EN002', \n",
    "           'LEDTV_LEDTV_UN40EN003', \n",
    "           'ledtv_UN40EN004']"
   ]
  },
  {
   "cell_type": "code",
   "execution_count": 44,
   "metadata": {},
   "outputs": [],
   "source": [
    "# 입력데이터 접두어 \"LEDTV_\"가 2번 이상 또는 아예 안나올 수도 있다.\n",
    "# 대문자로 표현해야함"
   ]
  },
  {
   "cell_type": "code",
   "execution_count": 46,
   "metadata": {},
   "outputs": [
    {
     "name": "stdout",
     "output_type": "stream",
     "text": [
      "1\n",
      "1\n",
      "2\n",
      "1\n"
     ]
    }
   ],
   "source": [
    "for i in range(0,len(tvList2)):\n",
    "\n",
    "    # Step1 : 모델코드를 불러온다.(접두어가 2개, 1개, 0개 붙을 수 있다.)\n",
    "    # 디버깅코드\n",
    "    loadedModel = tvList2[i]\n",
    "    # Step2 : 대문자로 변환시킨다.\n",
    "    modelUpper = loadedModel.upper()\n",
    "    # Step3 : 접두어를 찾아 하나만 붙인다.(상세로직)\n",
    "    #         모델코드를 찾고 접두어를 하나만 붙인다. replace\n",
    "    # 1개도 없을 때(clear) -> preFix + 대문자\n",
    "    # 1개 이상일때 \n",
    "    preFix = \"LEDTV_\"\n",
    "    preFixCnt = modelUpper.count(preFix)\n",
    "    print(preFixCnt)\n",
    "\n",
    "    if preFixCnt == 0:\n",
    "        modelUpper = preFix + modelUpper\n",
    "    elif preFixCnt >= 1 :\n",
    "        modelUpper = preFix + modelUpper.replace(preFix,\"\")\n",
    "\n",
    "    cvtModel = modelUpper\n",
    "    tvList2[i] = cvtModel"
   ]
  },
  {
   "cell_type": "code",
   "execution_count": 6,
   "metadata": {},
   "outputs": [],
   "source": [
    "# Step4 : 정상모델코드를 출력한다."
   ]
  },
  {
   "cell_type": "code",
   "execution_count": 47,
   "metadata": {},
   "outputs": [],
   "source": [
    "a = 10\n",
    "b = 5.3"
   ]
  },
  {
   "cell_type": "code",
   "execution_count": 48,
   "metadata": {},
   "outputs": [],
   "source": [
    "revenue = a/b"
   ]
  },
  {
   "cell_type": "code",
   "execution_count": 17,
   "metadata": {},
   "outputs": [],
   "source": [
    "def roundFunction(inValue):\n",
    "    # 소수점 둘째자리에서 반올림\n",
    "    # Step1 : 입력받은 데이터를 반올림 자리수만큼 곱해준다.\n",
    "    # inValue : 함수를 개발하기 위한 디버깅코드\n",
    "#     inValue = 1.893430903490\n",
    "    step1 = inValue * 100\n",
    "\n",
    "    # Step2 : 곱해준 결과에 0.5를 더한 후 소수점 이하를 버린다.\n",
    "    step2 = int(step1 + 0.5)\n",
    "\n",
    "    # Step3 : 100으로 나누어준다.\n",
    "    step3 = step2 / 100\n",
    "    outValue = step3\n",
    "    \n",
    "    return outValue"
   ]
  },
  {
   "cell_type": "code",
   "execution_count": 18,
   "metadata": {},
   "outputs": [],
   "source": [
    "revenue = 1.42243334"
   ]
  },
  {
   "cell_type": "code",
   "execution_count": 19,
   "metadata": {},
   "outputs": [],
   "source": [
    "displatedRevenue = roundFunction(revenue)"
   ]
  },
  {
   "cell_type": "code",
   "execution_count": 20,
   "metadata": {},
   "outputs": [],
   "source": [
    "accuracy = 89.1232423"
   ]
  },
  {
   "cell_type": "code",
   "execution_count": 21,
   "metadata": {},
   "outputs": [
    {
     "data": {
      "text/plain": [
       "89.12"
      ]
     },
     "execution_count": 21,
     "metadata": {},
     "output_type": "execute_result"
    }
   ],
   "source": [
    "displatedAccuracy = roundFunction(accuracy)\n",
    "displatedAccuracy"
   ]
  },
  {
   "cell_type": "code",
   "execution_count": 62,
   "metadata": {},
   "outputs": [],
   "source": [
    "def roundFunction(inValue,option):\n",
    "    step1 = inValue*(10**option)\n",
    "    step2 = int(step1 + 0.5)\n",
    "    step3 = step2 / (10**option)\n",
    "    outValue = step3\n",
    "    \n",
    "    return outValue"
   ]
  },
  {
   "cell_type": "code",
   "execution_count": 65,
   "metadata": {},
   "outputs": [],
   "source": [
    "def roundOption(inValue, optionValue):\n",
    "    # 디버깅코드\n",
    "    # inValue = 1.2225\n",
    "    # optionValue = 3\n",
    "    step1 = inValue * 10**optionValue\n",
    "    step2 = int(step1 + 0.5)\n",
    "    step3 = step2 / 10**optionValue\n",
    "    outValue = step3\n",
    "    return outValue"
   ]
  },
  {
   "cell_type": "code",
   "execution_count": 89,
   "metadata": {},
   "outputs": [],
   "source": [
    "mergedSet = []"
   ]
  },
  {
   "cell_type": "code",
   "execution_count": 90,
   "metadata": {},
   "outputs": [],
   "source": [
    "import pandas as pd"
   ]
  },
  {
   "cell_type": "code",
   "execution_count": 91,
   "metadata": {},
   "outputs": [
    {
     "ename": "SyntaxError",
     "evalue": "invalid syntax (<ipython-input-91-3fd78cb1797f>, line 5)",
     "output_type": "error",
     "traceback": [
      "\u001b[1;36m  File \u001b[1;32m\"<ipython-input-91-3fd78cb1797f>\"\u001b[1;36m, line \u001b[1;32m5\u001b[0m\n\u001b[1;33m    except Exception as e:\u001b[0m\n\u001b[1;37m    ^\u001b[0m\n\u001b[1;31mSyntaxError\u001b[0m\u001b[1;31m:\u001b[0m invalid syntax\n"
     ]
    }
   ],
   "source": [
    "for i in range(1, 4):\n",
    "    try:\n",
    "        fileName = \"./a\"+str(i)+\".txt\"\n",
    "        mergedSet.append(pd.read_csv(fileName)\n",
    "    except Exception as e:\n",
    "        print(\"에러파일명 : {}\".format(fileName))\n",
    "        print(e)"
   ]
  },
  {
   "cell_type": "code",
   "execution_count": 88,
   "metadata": {},
   "outputs": [
    {
     "data": {
      "text/html": [
       "<div>\n",
       "<style scoped>\n",
       "    .dataframe tbody tr th:only-of-type {\n",
       "        vertical-align: middle;\n",
       "    }\n",
       "\n",
       "    .dataframe tbody tr th {\n",
       "        vertical-align: top;\n",
       "    }\n",
       "\n",
       "    .dataframe thead th {\n",
       "        text-align: right;\n",
       "    }\n",
       "</style>\n",
       "<table border=\"1\" class=\"dataframe\">\n",
       "  <thead>\n",
       "    <tr style=\"text-align: right;\">\n",
       "      <th></th>\n",
       "      <th>a</th>\n",
       "      <th>b</th>\n",
       "      <th>c</th>\n",
       "    </tr>\n",
       "  </thead>\n",
       "  <tbody>\n",
       "    <tr>\n",
       "      <th>0</th>\n",
       "      <td>1</td>\n",
       "      <td>2</td>\n",
       "      <td>3</td>\n",
       "    </tr>\n",
       "    <tr>\n",
       "      <th>1</th>\n",
       "      <td>4</td>\n",
       "      <td>5</td>\n",
       "      <td>6</td>\n",
       "    </tr>\n",
       "  </tbody>\n",
       "</table>\n",
       "</div>"
      ],
      "text/plain": [
       "   a  b  c\n",
       "0  1  2  3\n",
       "1  4  5  6"
      ]
     },
     "execution_count": 88,
     "metadata": {},
     "output_type": "execute_result"
    }
   ],
   "source": [
    "mergedSet[1]"
   ]
  },
  {
   "cell_type": "code",
   "execution_count": 71,
   "metadata": {},
   "outputs": [],
   "source": [
    "mergedSet.append(pd.read_csv(\"./a1.txt\"))\n",
    "mergedSet.append(pd.read_csv(\"./a2.txt\"))\n",
    "mergedSet.append(pd.read_csv(\"./a3.txt\"))"
   ]
  },
  {
   "cell_type": "code",
   "execution_count": null,
   "metadata": {},
   "outputs": [],
   "source": [
    "mergedSet[2]"
   ]
  },
  {
   "cell_type": "code",
   "execution_count": null,
   "metadata": {},
   "outputs": [],
   "source": [
    "for i in range(0,3):"
   ]
  },
  {
   "cell_type": "code",
   "execution_count": null,
   "metadata": {},
   "outputs": [],
   "source": []
  },
  {
   "cell_type": "code",
   "execution_count": 32,
   "metadata": {},
   "outputs": [],
   "source": [
    "tvList = [\"LEDTV_UN40EN001\", \"LEDTV_UN40EN002\", \"LEDTV_UN40EN003\"]\n",
    "mobileList = [\"G3_MO001\", \"G3_MO002\",\"G3_MO003\"]\n",
    "speakerList = [\"BL_SP001\", \"BL_SP002\", \"BL_SP003\"]\n",
    "\n",
    "productList = [tvList, mobileList, speakerList]"
   ]
  },
  {
   "cell_type": "markdown",
   "metadata": {},
   "source": [
    "### mobileList와 speakerList에서 003이 붙은 정보를 뺀다."
   ]
  },
  {
   "cell_type": "markdown",
   "metadata": {},
   "source": [
    "### 리스트를 모두 출력한다. 단, 003이 붙은 경우는 제외한다."
   ]
  },
  {
   "cell_type": "code",
   "execution_count": null,
   "metadata": {},
   "outputs": [],
   "source": [
    "printChar = \"LEDTV_\"\n",
    "inChar = \"003\""
   ]
  },
  {
   "cell_type": "code",
   "execution_count": 33,
   "metadata": {},
   "outputs": [
    {
     "name": "stdout",
     "output_type": "stream",
     "text": [
      "LEDTV_UN40EN001\n",
      "LEDTV_UN40EN002\n",
      "LEDTV_UN40EN003\n",
      "G3_MO001\n",
      "G3_MO002\n",
      "BL_SP001\n",
      "BL_SP002\n"
     ]
    }
   ],
   "source": [
    "for j in range(0, len(productList)):\n",
    "    innterProductList = productList[j]\n",
    "    for i in range(0, len(innterProductList)):\n",
    "        # Step1 : 리스트값에서 아이템 코드를 입력받는다.\n",
    "        itemList = speakerList[i]\n",
    "        # Step2 : 제외할 character 정의\n",
    "        printChar = \"LEDTV_\"\n",
    "        printCharCnt = itemList.count(printChar)\n",
    "        if (printCharCnt > 0):\n",
    "            print(itemList)\n",
    "            continue\n",
    "            \n",
    "        inChar = \"003\"\n",
    "        # Step3 : 제외할 문자 존재시 출력안함\n",
    "        charCnt = itemList.count(inChar)\n",
    "        if charCnt >= 1:\n",
    "            pass\n",
    "        else :\n",
    "            print(itemList)"
   ]
  },
  {
   "cell_type": "code",
   "execution_count": null,
   "metadata": {},
   "outputs": [],
   "source": [
    "### 디버깅(LEDTV 추가로직 구현). 그대로 출력"
   ]
  },
  {
   "cell_type": "code",
   "execution_count": null,
   "metadata": {},
   "outputs": [],
   "source": [
    "# speakerList = productList[j]\n",
    "# for i in range(0, len(speakerList)):\n",
    "    # Step1 : 리스트값에서 아이템 코드를 입력받는다.\n",
    "    itemList = speakerList[i]\n",
    "    # Step2 : 제외할 character 정의\n",
    "    inChar = \"003\"\n",
    "    # Step3 : 제외할 문자 존재시 출력안함\n",
    "    charCnt = itemList.count(inChar)\n",
    "    if charCnt >= 1:\n",
    "        pass\n",
    "    else :\n",
    "        print(itemList)"
   ]
  },
  {
   "cell_type": "code",
   "execution_count": null,
   "metadata": {},
   "outputs": [],
   "source": []
  },
  {
   "cell_type": "code",
   "execution_count": null,
   "metadata": {},
   "outputs": [],
   "source": []
  },
  {
   "cell_type": "code",
   "execution_count": null,
   "metadata": {},
   "outputs": [],
   "source": []
  },
  {
   "cell_type": "code",
   "execution_count": 6,
   "metadata": {},
   "outputs": [
    {
     "name": "stdout",
     "output_type": "stream",
     "text": [
      "LEDTV_UN40EN001\n",
      "LEDTV_UN40EN002\n",
      "LEDTV_UN40EN003\n",
      "G3_MO001\n",
      "G3_MO002\n",
      "BL_SP001\n",
      "BL_SP002\n"
     ]
    }
   ],
   "source": [
    "for i in range (0,len(productList)):\n",
    "    lenList = len(productList[i])\n",
    "    for j in range (0,lenList):\n",
    "        if(productList[i][j].split(\"_\")[1] == \"MO003\"):\n",
    "            continue\n",
    "        elif(productList[i][j].split(\"_\")[1] == \"SP003\"):\n",
    "            break\n",
    "        print(productList[i][j])"
   ]
  },
  {
   "cell_type": "code",
   "execution_count": 14,
   "metadata": {},
   "outputs": [],
   "source": [
    "# 리스트 생성 및 sumList 변수 생성\n",
    "numberList = ['1993','9','23','15','30']\n",
    "sumList = 0"
   ]
  },
  {
   "cell_type": "code",
   "execution_count": 15,
   "metadata": {},
   "outputs": [
    {
     "name": "stdout",
     "output_type": "stream",
     "text": [
      "2070\n"
     ]
    }
   ],
   "source": [
    "for i in range(0,len(numberList)):\n",
    "    numberList1 = int(numberList[i])\n",
    "    sumList = numberList1 + sumList\n",
    "print(sumList)"
   ]
  },
  {
   "cell_type": "code",
   "execution_count": null,
   "metadata": {},
   "outputs": [],
   "source": []
  },
  {
   "cell_type": "code",
   "execution_count": null,
   "metadata": {},
   "outputs": [],
   "source": []
  }
 ],
 "metadata": {
  "kernelspec": {
   "display_name": "Python 3",
   "language": "python",
   "name": "python3"
  },
  "language_info": {
   "codemirror_mode": {
    "name": "ipython",
    "version": 3
   },
   "file_extension": ".py",
   "mimetype": "text/x-python",
   "name": "python",
   "nbconvert_exporter": "python",
   "pygments_lexer": "ipython3",
   "version": "3.8.3"
  }
 },
 "nbformat": 4,
 "nbformat_minor": 4
}
