{
 "cells": [
  {
   "cell_type": "code",
   "execution_count": 2,
   "metadata": {},
   "outputs": [
    {
     "name": "stdout",
     "output_type": "stream",
     "text": [
      "61\n"
     ]
    }
   ],
   "source": [
    "hour=17\n",
    "minute=44\n",
    "now=hour+minute\n",
    "print(now)"
   ]
  },
  {
   "cell_type": "code",
   "execution_count": 9,
   "metadata": {},
   "outputs": [],
   "source": [
    "# 현재 시간의 시간정보를 가져온다\n",
    "currentTime = 2\n",
    "currentMinutes = 25\n"
   ]
  },
  {
   "cell_type": "code",
   "execution_count": 10,
   "metadata": {},
   "outputs": [],
   "source": [
    "# 현재 시간 및 분 정보를 더한다\n",
    "sumTimeMinutes = currentTime + currentMinutes"
   ]
  },
  {
   "cell_type": "code",
   "execution_count": 11,
   "metadata": {},
   "outputs": [
    {
     "name": "stdout",
     "output_type": "stream",
     "text": [
      "27\n"
     ]
    }
   ],
   "source": [
    "# 결과 값을 출력한다.\n",
    "print(sumTimeMinutes)"
   ]
  },
  {
   "cell_type": "code",
   "execution_count": 12,
   "metadata": {},
   "outputs": [],
   "source": [
    "# 날짜계산 라이브러리 (datetime) 선언\n",
    "import datetime as dt"
   ]
  },
  {
   "cell_type": "code",
   "execution_count": null,
   "metadata": {},
   "outputs": [],
   "source": [
    "# 현재 날짜정보 불러오기\n",
    "# 현재 시간 및 분 정보 저장"
   ]
  },
  {
   "cell_type": "code",
   "execution_count": 15,
   "metadata": {},
   "outputs": [],
   "source": [
    "a=2\n",
    "b=3"
   ]
  },
  {
   "cell_type": "code",
   "execution_count": 19,
   "metadata": {},
   "outputs": [],
   "source": [
    "# print 문 \\n : 한줄 띄기, \\t : 탭만큼 띄기"
   ]
  },
  {
   "cell_type": "code",
   "execution_count": null,
   "metadata": {},
   "outputs": [],
   "source": []
  },
  {
   "cell_type": "markdown",
   "metadata": {},
   "source": [
    "문자"
   ]
  },
  {
   "cell_type": "code",
   "execution_count": 22,
   "metadata": {},
   "outputs": [],
   "source": [
    "firstLetter = \"smart 'fintech' lecture\""
   ]
  },
  {
   "cell_type": "code",
   "execution_count": 24,
   "metadata": {},
   "outputs": [
    {
     "name": "stdout",
     "output_type": "stream",
     "text": [
      "smart \"fintech\" lecture\n"
     ]
    }
   ],
   "source": [
    "print(firstLetter) "
   ]
  },
  {
   "cell_type": "code",
   "execution_count": null,
   "metadata": {},
   "outputs": [],
   "source": [
    "\"smart\" \"fintech\""
   ]
  },
  {
   "cell_type": "code",
   "execution_count": null,
   "metadata": {},
   "outputs": [],
   "source": [
    "inputVal1 = 1\n",
    "inputVal2 = \"1\""
   ]
  },
  {
   "cell_type": "code",
   "execution_count": 28,
   "metadata": {},
   "outputs": [
    {
     "data": {
      "text/plain": [
       "'***'"
      ]
     },
     "execution_count": 28,
     "metadata": {},
     "output_type": "execute_result"
    }
   ],
   "source": [
    "\"*\"*3"
   ]
  },
  {
   "cell_type": "code",
   "execution_count": 29,
   "metadata": {},
   "outputs": [],
   "source": [
    "# 연, 주차 정보 길이 설정\n",
    "YEARLEN = 4\n",
    "WEEKLEN = 2\n",
    "\n",
    "#입력 데이터\n",
    "inValue = \"202103\""
   ]
  },
  {
   "cell_type": "code",
   "execution_count": 31,
   "metadata": {},
   "outputs": [
    {
     "data": {
      "text/plain": [
       "'2021'"
      ]
     },
     "execution_count": 31,
     "metadata": {},
     "output_type": "execute_result"
    }
   ],
   "source": [
    "inValue[0:YEARLEN]"
   ]
  },
  {
   "cell_type": "code",
   "execution_count": null,
   "metadata": {},
   "outputs": [],
   "source": [
    "# 첫번째 인덱스는 포함, 마지막 인덱스는 포함X"
   ]
  },
  {
   "cell_type": "code",
   "execution_count": null,
   "metadata": {},
   "outputs": [],
   "source": [
    "yearInfo = inValue[:YEARLEN]"
   ]
  },
  {
   "cell_type": "code",
   "execution_count": 32,
   "metadata": {},
   "outputs": [
    {
     "data": {
      "text/plain": [
       "6"
      ]
     },
     "execution_count": 32,
     "metadata": {},
     "output_type": "execute_result"
    }
   ],
   "source": [
    "len(inValue)"
   ]
  },
  {
   "cell_type": "code",
   "execution_count": null,
   "metadata": {},
   "outputs": [],
   "source": [
    "weekInfo = inValue [YEARLEN:]\n",
    "weekInfo"
   ]
  },
  {
   "cell_type": "code",
   "execution_count": null,
   "metadata": {},
   "outputs": [],
   "source": []
  },
  {
   "cell_type": "code",
   "execution_count": 33,
   "metadata": {},
   "outputs": [
    {
     "name": "stdout",
     "output_type": "stream",
     "text": [
      "2\n"
     ]
    }
   ],
   "source": [
    "#문자열 개수세기 (count)\n",
    "yearweek = \"2017W28W\"\n",
    "print(yearweek.count(\"W\"))"
   ]
  },
  {
   "cell_type": "code",
   "execution_count": 36,
   "metadata": {},
   "outputs": [],
   "source": [
    "inValue = \"21W03\""
   ]
  },
  {
   "cell_type": "code",
   "execution_count": 37,
   "metadata": {},
   "outputs": [
    {
     "data": {
      "text/plain": [
       "2"
      ]
     },
     "execution_count": 37,
     "metadata": {},
     "output_type": "execute_result"
    }
   ],
   "source": [
    "inValue.index(\"W\")"
   ]
  },
  {
   "cell_type": "code",
   "execution_count": 39,
   "metadata": {},
   "outputs": [],
   "source": [
    "letters = \"LeD_tv\""
   ]
  },
  {
   "cell_type": "code",
   "execution_count": 40,
   "metadata": {},
   "outputs": [
    {
     "data": {
      "text/plain": [
       "'LED_TV'"
      ]
     },
     "execution_count": 40,
     "metadata": {},
     "output_type": "execute_result"
    }
   ],
   "source": [
    "letters.upper()"
   ]
  },
  {
   "cell_type": "code",
   "execution_count": 41,
   "metadata": {},
   "outputs": [
    {
     "data": {
      "text/plain": [
       "'led_tv'"
      ]
     },
     "execution_count": 41,
     "metadata": {},
     "output_type": "execute_result"
    }
   ],
   "source": [
    "letters.lower()"
   ]
  },
  {
   "cell_type": "code",
   "execution_count": 46,
   "metadata": {},
   "outputs": [],
   "source": [
    "userInput = \"haiteam\" \n",
    "dbValue = \"HAITEAM\" "
   ]
  },
  {
   "cell_type": "code",
   "execution_count": 47,
   "metadata": {},
   "outputs": [
    {
     "data": {
      "text/plain": [
       "True"
      ]
     },
     "execution_count": 47,
     "metadata": {},
     "output_type": "execute_result"
    }
   ],
   "source": [
    "userInput.upper()==dbValue.upper()"
   ]
  },
  {
   "cell_type": "code",
   "execution_count": 48,
   "metadata": {},
   "outputs": [
    {
     "data": {
      "text/plain": [
       "True"
      ]
     },
     "execution_count": 48,
     "metadata": {},
     "output_type": "execute_result"
    }
   ],
   "source": [
    "userInput.lower()==dbValue.lower()"
   ]
  },
  {
   "cell_type": "code",
   "execution_count": 49,
   "metadata": {},
   "outputs": [
    {
     "name": "stdout",
     "output_type": "stream",
     "text": [
      "2017_28\n"
     ]
    }
   ],
   "source": [
    "repLetters = \"2017W28\"\n",
    "print(repLetters.replace(\"W\",\"_\"))"
   ]
  },
  {
   "cell_type": "code",
   "execution_count": 51,
   "metadata": {},
   "outputs": [
    {
     "name": "stdout",
     "output_type": "stream",
     "text": [
      "['2017', '28', '']\n"
     ]
    }
   ],
   "source": [
    "yearweek_list= yearweek.split(\"W\")\n",
    "print(yearweek_list)"
   ]
  },
  {
   "cell_type": "code",
   "execution_count": 52,
   "metadata": {},
   "outputs": [],
   "source": [
    "a=\"haiteam            seoul\"\n",
    "b=\"team           busan\""
   ]
  },
  {
   "cell_type": "code",
   "execution_count": 53,
   "metadata": {},
   "outputs": [
    {
     "data": {
      "text/plain": [
       "'haiteamseoul'"
      ]
     },
     "execution_count": 53,
     "metadata": {},
     "output_type": "execute_result"
    }
   ],
   "source": [
    "a.replace(\"   \",\"\").replace(\"   \",\"_\")"
   ]
  },
  {
   "cell_type": "code",
   "execution_count": 54,
   "metadata": {},
   "outputs": [
    {
     "data": {
      "text/plain": [
       "['2018', '01']"
      ]
     },
     "execution_count": 54,
     "metadata": {},
     "output_type": "execute_result"
    }
   ],
   "source": [
    "\"2018W01\".split(\"W\")"
   ]
  },
  {
   "cell_type": "code",
   "execution_count": 55,
   "metadata": {},
   "outputs": [],
   "source": [
    "outValue = \"2018W01\".split(\"W\")"
   ]
  },
  {
   "cell_type": "code",
   "execution_count": 59,
   "metadata": {},
   "outputs": [],
   "source": []
  },
  {
   "cell_type": "code",
   "execution_count": 60,
   "metadata": {},
   "outputs": [],
   "source": [
    "orgValue = \"1234\""
   ]
  },
  {
   "cell_type": "code",
   "execution_count": null,
   "metadata": {},
   "outputs": [],
   "source": [
    "# int(정수), float(실수)"
   ]
  },
  {
   "cell_type": "code",
   "execution_count": 61,
   "metadata": {},
   "outputs": [],
   "source": [
    "newValue = int(orgValue)"
   ]
  },
  {
   "cell_type": "code",
   "execution_count": null,
   "metadata": {},
   "outputs": [],
   "source": [
    "type(orgValue)"
   ]
  },
  {
   "cell_type": "code",
   "execution_count": null,
   "metadata": {},
   "outputs": [],
   "source": []
  },
  {
   "cell_type": "code",
   "execution_count": 73,
   "metadata": {},
   "outputs": [],
   "source": [
    "targetValue = \"Sec 20180212 250\""
   ]
  },
  {
   "cell_type": "code",
   "execution_count": 106,
   "metadata": {},
   "outputs": [
    {
     "name": "stdout",
     "output_type": "stream",
     "text": [
      "Sec\n",
      "2018W28 \n",
      "250\n"
     ]
    }
   ],
   "source": [
    "stock_name = print(targetValue[0:3])\n",
    "date=print(targetValue[4:12])\n",
    "value =print(targetValue[-3:])"
   ]
  },
  {
   "cell_type": "code",
   "execution_count": 77,
   "metadata": {},
   "outputs": [],
   "source": [
    "targetValue=\"Sec 2018W28 250\""
   ]
  },
  {
   "cell_type": "code",
   "execution_count": 109,
   "metadata": {},
   "outputs": [
    {
     "name": "stdout",
     "output_type": "stream",
     "text": [
      "SEC\n",
      "2018 28\n",
      "250\n"
     ]
    }
   ],
   "source": [
    "targetValue=\"Sec 2018W28 250\"\n",
    "stock_name = targetValue[0:3]\n",
    "stock_name_upper = stock_name.upper() #stock_name 대문자로 변환\n",
    "print(stock_name_upper)\n",
    "\n",
    "date=targetValue[4:11]\n",
    "print(date.replace(\"W\",\" \")) #W 삭제\n",
    "\n",
    "value = targetValue[-3:]\n",
    "print(value)"
   ]
  },
  {
   "cell_type": "code",
   "execution_count": 11,
   "metadata": {},
   "outputs": [
    {
     "name": "stdout",
     "output_type": "stream",
     "text": [
      "SEC 201812 250\n"
     ]
    }
   ],
   "source": [
    "##교수님 답안\n",
    "## 샘플데이터\n",
    "targetValue = \"Sec 2018W12 250\" ##데이터 분류 선행 (ex.띄어쓰기를 기준으로 분리하겠다)\n",
    "\n",
    "#입력데이터를 대문자로 변환한다.\n",
    "targetValue = targetValue.upper()\n",
    "\n",
    "#date 컬럼내 삭제 문자열 (\"W\") 및 구분자를 선언한다.\n",
    "delchar = \"W\"\n",
    "delimeter = \" \"\n",
    "\n",
    "#stockName, date, value 값을 추출한다.\n",
    "delimeterIndex = targetValue.index(delimeter)\n",
    "\n",
    "stockName = targetValue[:delimeterIndex]\n",
    "\n",
    "leftedValue = targetValue[delimeterIndex+1:]\n",
    "delimeterIndex = leftedValue.index(delimeter)\n",
    "date = leftedValue[:delimeterIndex].replace(delchar,\"\")\n",
    "\n",
    "value = leftedValue[delimeterIndex+1:]\n",
    "value\n",
    "\n",
    "print(stockName, date, value)"
   ]
  },
  {
   "cell_type": "code",
   "execution_count": null,
   "metadata": {},
   "outputs": [],
   "source": []
  },
  {
   "cell_type": "markdown",
   "metadata": {},
   "source": [
    "리스트"
   ]
  },
  {
   "cell_type": "code",
   "execution_count": 4,
   "metadata": {},
   "outputs": [],
   "source": [
    "emptyList=[]"
   ]
  },
  {
   "cell_type": "code",
   "execution_count": 6,
   "metadata": {},
   "outputs": [],
   "source": [
    "priceList = [100,150,300,1000]"
   ]
  },
  {
   "cell_type": "code",
   "execution_count": 7,
   "metadata": {},
   "outputs": [
    {
     "data": {
      "text/plain": [
       "100"
      ]
     },
     "execution_count": 7,
     "metadata": {},
     "output_type": "execute_result"
    }
   ],
   "source": [
    "priceList[0]"
   ]
  },
  {
   "cell_type": "code",
   "execution_count": 8,
   "metadata": {},
   "outputs": [],
   "source": [
    "stockList =[[\"sec\",\"201801\",100],\n",
    "           [\"posco\",\"201801\",200]]"
   ]
  },
  {
   "cell_type": "code",
   "execution_count": 9,
   "metadata": {},
   "outputs": [
    {
     "data": {
      "text/plain": [
       "['sec', '201801', 100]"
      ]
     },
     "execution_count": 9,
     "metadata": {},
     "output_type": "execute_result"
    }
   ],
   "source": [
    "stockList[0]"
   ]
  },
  {
   "cell_type": "code",
   "execution_count": 10,
   "metadata": {},
   "outputs": [
    {
     "data": {
      "text/plain": [
       "'201801'"
      ]
     },
     "execution_count": 10,
     "metadata": {},
     "output_type": "execute_result"
    }
   ],
   "source": [
    "stockList[0][1] ## 복합리스트"
   ]
  },
  {
   "cell_type": "code",
   "execution_count": 13,
   "metadata": {},
   "outputs": [],
   "source": [
    "priceList=[100,150,300,1000]"
   ]
  },
  {
   "cell_type": "code",
   "execution_count": 16,
   "metadata": {},
   "outputs": [
    {
     "data": {
      "text/plain": [
       "1550"
      ]
     },
     "execution_count": 16,
     "metadata": {},
     "output_type": "execute_result"
    }
   ],
   "source": [
    "sum(priceList)"
   ]
  },
  {
   "cell_type": "code",
   "execution_count": 17,
   "metadata": {},
   "outputs": [
    {
     "name": "stdout",
     "output_type": "stream",
     "text": [
      "1000\n",
      "100\n",
      "1550\n",
      "4\n"
     ]
    }
   ],
   "source": [
    "print(max(priceList))\n",
    "print(min(priceList))\n",
    "print(sum(priceList))\n",
    "print(len(priceList))"
   ]
  },
  {
   "cell_type": "code",
   "execution_count": 21,
   "metadata": {},
   "outputs": [
    {
     "data": {
      "text/plain": [
       "387.5"
      ]
     },
     "execution_count": 21,
     "metadata": {},
     "output_type": "execute_result"
    }
   ],
   "source": [
    "sum(priceList) / len(priceList)  ##평균 직접 구해야함"
   ]
  },
  {
   "cell_type": "code",
   "execution_count": 22,
   "metadata": {},
   "outputs": [],
   "source": [
    "initList = [100,200,300,400]"
   ]
  },
  {
   "cell_type": "code",
   "execution_count": 27,
   "metadata": {},
   "outputs": [],
   "source": [
    "# 인덱스 활용\n",
    "initList[0:3] #0,1,2 인덱스 선택\n",
    "# 리스트는 집합이기 때문에 집합연산이 필수\n",
    "sum(initList) #sum, len, min, max\n",
    "# 리스트는 수정 가능\n",
    "initList[2]=1000000\n",
    "initList\n",
    "initList.remove(400)"
   ]
  },
  {
   "cell_type": "code",
   "execution_count": 28,
   "metadata": {},
   "outputs": [],
   "source": [
    "initList.append(30)"
   ]
  },
  {
   "cell_type": "code",
   "execution_count": 30,
   "metadata": {},
   "outputs": [
    {
     "data": {
      "text/plain": [
       "0"
      ]
     },
     "execution_count": 30,
     "metadata": {},
     "output_type": "execute_result"
    }
   ],
   "source": [
    "# 리스트의 유용한 함수\n",
    "initList.count(2500)"
   ]
  },
  {
   "cell_type": "code",
   "execution_count": null,
   "metadata": {},
   "outputs": [],
   "source": []
  },
  {
   "cell_type": "code",
   "execution_count": 2,
   "metadata": {},
   "outputs": [],
   "source": [
    "testList = [120,150,300,500,1000,100,2000]"
   ]
  },
  {
   "cell_type": "code",
   "execution_count": 3,
   "metadata": {},
   "outputs": [
    {
     "name": "stdout",
     "output_type": "stream",
     "text": [
      "414.0\n"
     ]
    }
   ],
   "source": [
    "testList.remove(max(testList))\n",
    "testList.remove(min(testList))\n",
    "\n",
    "print(sum(testList) / len(testList))"
   ]
  },
  {
   "cell_type": "code",
   "execution_count": 1,
   "metadata": {},
   "outputs": [],
   "source": [
    "testString = \"korea\""
   ]
  },
  {
   "cell_type": "code",
   "execution_count": 2,
   "metadata": {},
   "outputs": [],
   "source": [
    "testString = \\\n",
    "    testString.replace(\"kor\",\"cor\")"
   ]
  },
  {
   "cell_type": "code",
   "execution_count": 3,
   "metadata": {},
   "outputs": [
    {
     "data": {
      "text/plain": [
       "'corea'"
      ]
     },
     "execution_count": 3,
     "metadata": {},
     "output_type": "execute_result"
    }
   ],
   "source": [
    "testString"
   ]
  },
  {
   "cell_type": "code",
   "execution_count": 15,
   "metadata": {},
   "outputs": [],
   "source": [
    "testList=[1,2,3,4]"
   ]
  },
  {
   "cell_type": "code",
   "execution_count": 16,
   "metadata": {},
   "outputs": [],
   "source": [
    "testList.remove(2)"
   ]
  },
  {
   "cell_type": "code",
   "execution_count": 17,
   "metadata": {},
   "outputs": [
    {
     "data": {
      "text/plain": [
       "[1, 3, 4]"
      ]
     },
     "execution_count": 17,
     "metadata": {},
     "output_type": "execute_result"
    }
   ],
   "source": [
    "testList"
   ]
  },
  {
   "cell_type": "code",
   "execution_count": 10,
   "metadata": {},
   "outputs": [
    {
     "data": {
      "text/plain": [
       "3.2"
      ]
     },
     "execution_count": 10,
     "metadata": {},
     "output_type": "execute_result"
    }
   ],
   "source": [
    "a=3.2\n",
    "a"
   ]
  },
  {
   "cell_type": "code",
   "execution_count": 13,
   "metadata": {},
   "outputs": [
    {
     "data": {
      "text/plain": [
       "13"
      ]
     },
     "execution_count": 13,
     "metadata": {},
     "output_type": "execute_result"
    }
   ],
   "source": [
    "stringValue =\"10\"\n",
    "intValue=3\n",
    "int(stringValue)+intValue"
   ]
  },
  {
   "cell_type": "code",
   "execution_count": 5,
   "metadata": {},
   "outputs": [],
   "source": [
    "import pandas as pd"
   ]
  },
  {
   "cell_type": "code",
   "execution_count": 9,
   "metadata": {},
   "outputs": [],
   "source": [
    "customerData = pd.read_csv(\"../dataset/kopo_customerdata.csv\")\n",
    "customerTotalList= customerData[\"TOTAL_AMOUNT\"].tolist()"
   ]
  },
  {
   "cell_type": "code",
   "execution_count": 14,
   "metadata": {},
   "outputs": [],
   "source": [
    "customerTotalList.sort()"
   ]
  },
  {
   "cell_type": "code",
   "execution_count": 16,
   "metadata": {},
   "outputs": [
    {
     "name": "stdout",
     "output_type": "stream",
     "text": [
      "35248.91490376756\n"
     ]
    }
   ],
   "source": [
    "import pandas as pd\n",
    "\n",
    "customerData = pd.read_csv(\"../dataset/kopo_customerdata.csv\")\n",
    "customerTotalList= customerData[\"TOTAL_AMOUNT\"].tolist()\n",
    "\n",
    "customerTotalList.sort()\n",
    "\n",
    "maxData = max(customerTotalList) #최대값\n",
    "minData = min(customerTotalList) #최소값\n",
    "\n",
    "cntmaxData = customerTotalList.count(maxData) #최대값 개수\n",
    "cntminData = customerTotalList.count(minData) #최소값 개수\n",
    "\n",
    "lenData = len(customerTotalList)- cntmaxData - cntminData\n",
    "sumData = sum(customerTotalList) - (maxData*cntmaxData) - (minData*cntminData)\n",
    "\n",
    "average = sumData/lenData\n",
    "\n",
    "print(average)\n"
   ]
  },
  {
   "cell_type": "code",
   "execution_count": 22,
   "metadata": {},
   "outputs": [],
   "source": [
    "import pandas as pd\n",
    "\n",
    "customerData = pd.read_csv(\"../dataset/kopo_customerdata.csv\")\n",
    "customerTotalList= customerData[\"TOTAL_AMOUNT\"].tolist()\n",
    "\n",
    "customerTotalList.sort()"
   ]
  },
  {
   "cell_type": "code",
   "execution_count": 27,
   "metadata": {},
   "outputs": [
    {
     "name": "stdout",
     "output_type": "stream",
     "text": [
      "35248.91490376756\n"
     ]
    }
   ],
   "source": [
    "#최솟값, 최댓값 구하기\n",
    "minValue = min(customerTotalList) \n",
    "maxValue = max(customerTotalList) \n",
    "\n",
    "#최솟값, 최댓값의 중복값 구하기\n",
    "countminValue = customerTotalList.count(minValue)\n",
    "countmaxValue = customerTotalList.count(maxValue)\n",
    "\n",
    "#중복값 제외한 리스트 구하기\n",
    "newCustomerList = customerTotalList[countminValue: -countmaxValue]\n",
    "\n",
    "#평균값\n",
    "average= sum(newCustomerList)/len(newCustomerList)\n",
    "print(average)\n"
   ]
  },
  {
   "cell_type": "markdown",
   "metadata": {},
   "source": [
    "### customerdata amount_price 최소 최대값을 뺀 평균을 구한다."
   ]
  },
  {
   "cell_type": "code",
   "execution_count": 1,
   "metadata": {},
   "outputs": [],
   "source": [
    "import pandas as pd"
   ]
  },
  {
   "cell_type": "code",
   "execution_count": 2,
   "metadata": {},
   "outputs": [],
   "source": [
    "csData = pd.read_csv(\"../dataset/kopo_customerdata.csv\")"
   ]
  },
  {
   "cell_type": "code",
   "execution_count": 3,
   "metadata": {},
   "outputs": [
    {
     "data": {
      "text/html": [
       "<div>\n",
       "<style scoped>\n",
       "    .dataframe tbody tr th:only-of-type {\n",
       "        vertical-align: middle;\n",
       "    }\n",
       "\n",
       "    .dataframe tbody tr th {\n",
       "        vertical-align: top;\n",
       "    }\n",
       "\n",
       "    .dataframe thead th {\n",
       "        text-align: right;\n",
       "    }\n",
       "</style>\n",
       "<table border=\"1\" class=\"dataframe\">\n",
       "  <thead>\n",
       "    <tr style=\"text-align: right;\">\n",
       "      <th></th>\n",
       "      <th>CUSTOMERCODE</th>\n",
       "      <th>STATENAME</th>\n",
       "      <th>ST</th>\n",
       "      <th>GENDER</th>\n",
       "      <th>DOB</th>\n",
       "      <th>GENDER1</th>\n",
       "      <th>EMAIL</th>\n",
       "      <th>FEST_CNT</th>\n",
       "      <th>TOTAL_AMOUNT</th>\n",
       "      <th>AC_AMOUNT</th>\n",
       "      <th>AV_AMOUNT</th>\n",
       "      <th>HA_AMOUNT</th>\n",
       "      <th>EMI_CE_AMOUNT</th>\n",
       "      <th>IS_HIGHEND</th>\n",
       "      <th>CNT_VIST</th>\n",
       "      <th>GAP_VISIT</th>\n",
       "    </tr>\n",
       "  </thead>\n",
       "  <tbody>\n",
       "    <tr>\n",
       "      <th>0</th>\n",
       "      <td>1503989</td>\n",
       "      <td>State2</td>\n",
       "      <td>2</td>\n",
       "      <td>Male</td>\n",
       "      <td>0</td>\n",
       "      <td>1</td>\n",
       "      <td>1</td>\n",
       "      <td>0</td>\n",
       "      <td>30300</td>\n",
       "      <td>0</td>\n",
       "      <td>30300</td>\n",
       "      <td>0</td>\n",
       "      <td>0</td>\n",
       "      <td>0</td>\n",
       "      <td>1</td>\n",
       "      <td>0</td>\n",
       "    </tr>\n",
       "    <tr>\n",
       "      <th>1</th>\n",
       "      <td>1190338</td>\n",
       "      <td>State2</td>\n",
       "      <td>2</td>\n",
       "      <td>Male</td>\n",
       "      <td>0</td>\n",
       "      <td>1</td>\n",
       "      <td>0</td>\n",
       "      <td>1</td>\n",
       "      <td>46500</td>\n",
       "      <td>0</td>\n",
       "      <td>46500</td>\n",
       "      <td>0</td>\n",
       "      <td>0</td>\n",
       "      <td>0</td>\n",
       "      <td>1</td>\n",
       "      <td>0</td>\n",
       "    </tr>\n",
       "    <tr>\n",
       "      <th>2</th>\n",
       "      <td>1424715</td>\n",
       "      <td>State2</td>\n",
       "      <td>2</td>\n",
       "      <td>Female</td>\n",
       "      <td>0</td>\n",
       "      <td>2</td>\n",
       "      <td>0</td>\n",
       "      <td>0</td>\n",
       "      <td>22700</td>\n",
       "      <td>0</td>\n",
       "      <td>0</td>\n",
       "      <td>22700</td>\n",
       "      <td>0</td>\n",
       "      <td>0</td>\n",
       "      <td>1</td>\n",
       "      <td>0</td>\n",
       "    </tr>\n",
       "    <tr>\n",
       "      <th>3</th>\n",
       "      <td>2483305</td>\n",
       "      <td>State2</td>\n",
       "      <td>2</td>\n",
       "      <td>Male</td>\n",
       "      <td>0</td>\n",
       "      <td>1</td>\n",
       "      <td>0</td>\n",
       "      <td>1</td>\n",
       "      <td>31400</td>\n",
       "      <td>0</td>\n",
       "      <td>31400</td>\n",
       "      <td>0</td>\n",
       "      <td>0</td>\n",
       "      <td>0</td>\n",
       "      <td>1</td>\n",
       "      <td>0</td>\n",
       "    </tr>\n",
       "    <tr>\n",
       "      <th>4</th>\n",
       "      <td>1178802</td>\n",
       "      <td>State2</td>\n",
       "      <td>2</td>\n",
       "      <td>Male</td>\n",
       "      <td>0</td>\n",
       "      <td>1</td>\n",
       "      <td>0</td>\n",
       "      <td>1</td>\n",
       "      <td>44900</td>\n",
       "      <td>0</td>\n",
       "      <td>0</td>\n",
       "      <td>44900</td>\n",
       "      <td>0</td>\n",
       "      <td>0</td>\n",
       "      <td>1</td>\n",
       "      <td>0</td>\n",
       "    </tr>\n",
       "    <tr>\n",
       "      <th>...</th>\n",
       "      <td>...</td>\n",
       "      <td>...</td>\n",
       "      <td>...</td>\n",
       "      <td>...</td>\n",
       "      <td>...</td>\n",
       "      <td>...</td>\n",
       "      <td>...</td>\n",
       "      <td>...</td>\n",
       "      <td>...</td>\n",
       "      <td>...</td>\n",
       "      <td>...</td>\n",
       "      <td>...</td>\n",
       "      <td>...</td>\n",
       "      <td>...</td>\n",
       "      <td>...</td>\n",
       "      <td>...</td>\n",
       "    </tr>\n",
       "    <tr>\n",
       "      <th>299995</th>\n",
       "      <td>465757</td>\n",
       "      <td>State1</td>\n",
       "      <td>1</td>\n",
       "      <td>Male</td>\n",
       "      <td>0</td>\n",
       "      <td>1</td>\n",
       "      <td>0</td>\n",
       "      <td>0</td>\n",
       "      <td>40600</td>\n",
       "      <td>0</td>\n",
       "      <td>40600</td>\n",
       "      <td>0</td>\n",
       "      <td>0</td>\n",
       "      <td>0</td>\n",
       "      <td>1</td>\n",
       "      <td>0</td>\n",
       "    </tr>\n",
       "    <tr>\n",
       "      <th>299996</th>\n",
       "      <td>1890264</td>\n",
       "      <td>State1</td>\n",
       "      <td>1</td>\n",
       "      <td>Male</td>\n",
       "      <td>0</td>\n",
       "      <td>1</td>\n",
       "      <td>0</td>\n",
       "      <td>1</td>\n",
       "      <td>48000</td>\n",
       "      <td>48000</td>\n",
       "      <td>0</td>\n",
       "      <td>0</td>\n",
       "      <td>0</td>\n",
       "      <td>0</td>\n",
       "      <td>1</td>\n",
       "      <td>0</td>\n",
       "    </tr>\n",
       "    <tr>\n",
       "      <th>299997</th>\n",
       "      <td>1857537</td>\n",
       "      <td>State1</td>\n",
       "      <td>1</td>\n",
       "      <td>Female</td>\n",
       "      <td>0</td>\n",
       "      <td>2</td>\n",
       "      <td>0</td>\n",
       "      <td>0</td>\n",
       "      <td>32300</td>\n",
       "      <td>0</td>\n",
       "      <td>0</td>\n",
       "      <td>32300</td>\n",
       "      <td>0</td>\n",
       "      <td>0</td>\n",
       "      <td>1</td>\n",
       "      <td>0</td>\n",
       "    </tr>\n",
       "    <tr>\n",
       "      <th>299998</th>\n",
       "      <td>2209324</td>\n",
       "      <td>State1</td>\n",
       "      <td>1</td>\n",
       "      <td>Male</td>\n",
       "      <td>0</td>\n",
       "      <td>1</td>\n",
       "      <td>0</td>\n",
       "      <td>1</td>\n",
       "      <td>48500</td>\n",
       "      <td>0</td>\n",
       "      <td>48500</td>\n",
       "      <td>0</td>\n",
       "      <td>0</td>\n",
       "      <td>0</td>\n",
       "      <td>1</td>\n",
       "      <td>0</td>\n",
       "    </tr>\n",
       "    <tr>\n",
       "      <th>299999</th>\n",
       "      <td>1875146</td>\n",
       "      <td>State1</td>\n",
       "      <td>1</td>\n",
       "      <td>Male</td>\n",
       "      <td>0</td>\n",
       "      <td>1</td>\n",
       "      <td>0</td>\n",
       "      <td>1</td>\n",
       "      <td>16500</td>\n",
       "      <td>0</td>\n",
       "      <td>0</td>\n",
       "      <td>16500</td>\n",
       "      <td>0</td>\n",
       "      <td>0</td>\n",
       "      <td>1</td>\n",
       "      <td>0</td>\n",
       "    </tr>\n",
       "  </tbody>\n",
       "</table>\n",
       "<p>300000 rows × 16 columns</p>\n",
       "</div>"
      ],
      "text/plain": [
       "        CUSTOMERCODE STATENAME  ST  GENDER  DOB  GENDER1  EMAIL  FEST_CNT  \\\n",
       "0            1503989    State2   2    Male    0        1      1         0   \n",
       "1            1190338    State2   2    Male    0        1      0         1   \n",
       "2            1424715    State2   2  Female    0        2      0         0   \n",
       "3            2483305    State2   2    Male    0        1      0         1   \n",
       "4            1178802    State2   2    Male    0        1      0         1   \n",
       "...              ...       ...  ..     ...  ...      ...    ...       ...   \n",
       "299995        465757    State1   1    Male    0        1      0         0   \n",
       "299996       1890264    State1   1    Male    0        1      0         1   \n",
       "299997       1857537    State1   1  Female    0        2      0         0   \n",
       "299998       2209324    State1   1    Male    0        1      0         1   \n",
       "299999       1875146    State1   1    Male    0        1      0         1   \n",
       "\n",
       "        TOTAL_AMOUNT  AC_AMOUNT  AV_AMOUNT  HA_AMOUNT  EMI_CE_AMOUNT  \\\n",
       "0              30300          0      30300          0              0   \n",
       "1              46500          0      46500          0              0   \n",
       "2              22700          0          0      22700              0   \n",
       "3              31400          0      31400          0              0   \n",
       "4              44900          0          0      44900              0   \n",
       "...              ...        ...        ...        ...            ...   \n",
       "299995         40600          0      40600          0              0   \n",
       "299996         48000      48000          0          0              0   \n",
       "299997         32300          0          0      32300              0   \n",
       "299998         48500          0      48500          0              0   \n",
       "299999         16500          0          0      16500              0   \n",
       "\n",
       "        IS_HIGHEND  CNT_VIST  GAP_VISIT  \n",
       "0                0         1          0  \n",
       "1                0         1          0  \n",
       "2                0         1          0  \n",
       "3                0         1          0  \n",
       "4                0         1          0  \n",
       "...            ...       ...        ...  \n",
       "299995           0         1          0  \n",
       "299996           0         1          0  \n",
       "299997           0         1          0  \n",
       "299998           0         1          0  \n",
       "299999           0         1          0  \n",
       "\n",
       "[300000 rows x 16 columns]"
      ]
     },
     "execution_count": 3,
     "metadata": {},
     "output_type": "execute_result"
    }
   ],
   "source": [
    "csData"
   ]
  },
  {
   "cell_type": "code",
   "execution_count": 4,
   "metadata": {},
   "outputs": [],
   "source": [
    "amountList = csData.TOTAL_AMOUNT.tolist()"
   ]
  },
  {
   "cell_type": "code",
   "execution_count": 5,
   "metadata": {},
   "outputs": [],
   "source": [
    "amountList.sort()"
   ]
  },
  {
   "cell_type": "code",
   "execution_count": 6,
   "metadata": {
    "collapsed": true,
    "jupyter": {
     "outputs_hidden": true
    }
   },
   "outputs": [
    {
     "data": {
      "text/plain": [
       "[0,\n",
       " 0,\n",
       " 0,\n",
       " 0,\n",
       " 0,\n",
       " 0,\n",
       " 0,\n",
       " 0,\n",
       " 0,\n",
       " 0,\n",
       " 0,\n",
       " 0,\n",
       " 0,\n",
       " 0,\n",
       " 0,\n",
       " 0,\n",
       " 0,\n",
       " 0,\n",
       " 0,\n",
       " 0,\n",
       " 0,\n",
       " 0,\n",
       " 0,\n",
       " 0,\n",
       " 0,\n",
       " 0,\n",
       " 0,\n",
       " 0,\n",
       " 0,\n",
       " 0,\n",
       " 0,\n",
       " 0,\n",
       " 0,\n",
       " 0,\n",
       " 0,\n",
       " 0,\n",
       " 0,\n",
       " 0,\n",
       " 0,\n",
       " 0,\n",
       " 0,\n",
       " 0,\n",
       " 0,\n",
       " 0,\n",
       " 0,\n",
       " 0,\n",
       " 0,\n",
       " 0,\n",
       " 0,\n",
       " 0,\n",
       " 0,\n",
       " 0,\n",
       " 0,\n",
       " 0,\n",
       " 0,\n",
       " 0,\n",
       " 0,\n",
       " 0,\n",
       " 0,\n",
       " 0,\n",
       " 0,\n",
       " 0,\n",
       " 0,\n",
       " 0,\n",
       " 0,\n",
       " 0,\n",
       " 0,\n",
       " 0,\n",
       " 0,\n",
       " 0,\n",
       " 0,\n",
       " 0,\n",
       " 0,\n",
       " 0,\n",
       " 0,\n",
       " 0,\n",
       " 0,\n",
       " 0,\n",
       " 0,\n",
       " 0,\n",
       " 0,\n",
       " 0,\n",
       " 0,\n",
       " 0,\n",
       " 0,\n",
       " 0,\n",
       " 0,\n",
       " 0,\n",
       " 0,\n",
       " 0,\n",
       " 0,\n",
       " 0,\n",
       " 0,\n",
       " 0,\n",
       " 0,\n",
       " 0,\n",
       " 0,\n",
       " 0,\n",
       " 0,\n",
       " 0,\n",
       " 0,\n",
       " 0,\n",
       " 0,\n",
       " 0,\n",
       " 0,\n",
       " 0,\n",
       " 0,\n",
       " 0,\n",
       " 0,\n",
       " 0,\n",
       " 0,\n",
       " 0,\n",
       " 0,\n",
       " 0,\n",
       " 0,\n",
       " 0,\n",
       " 0,\n",
       " 0,\n",
       " 0,\n",
       " 0,\n",
       " 0,\n",
       " 0,\n",
       " 0,\n",
       " 0,\n",
       " 0,\n",
       " 0,\n",
       " 0,\n",
       " 0,\n",
       " 0,\n",
       " 0,\n",
       " 0,\n",
       " 0,\n",
       " 0,\n",
       " 0,\n",
       " 0,\n",
       " 0,\n",
       " 0,\n",
       " 0,\n",
       " 0,\n",
       " 0,\n",
       " 0,\n",
       " 0,\n",
       " 0,\n",
       " 0,\n",
       " 0,\n",
       " 0,\n",
       " 0,\n",
       " 0,\n",
       " 0,\n",
       " 0,\n",
       " 0,\n",
       " 0,\n",
       " 0,\n",
       " 0,\n",
       " 0,\n",
       " 0,\n",
       " 0,\n",
       " 0,\n",
       " 0,\n",
       " 0,\n",
       " 0,\n",
       " 0,\n",
       " 0,\n",
       " 0,\n",
       " 0,\n",
       " 0,\n",
       " 0,\n",
       " 0,\n",
       " 0,\n",
       " 0,\n",
       " 0,\n",
       " 0,\n",
       " 0,\n",
       " 0,\n",
       " 0,\n",
       " 0,\n",
       " 0,\n",
       " 0,\n",
       " 0,\n",
       " 0,\n",
       " 0,\n",
       " 0,\n",
       " 0,\n",
       " 0,\n",
       " 0,\n",
       " 0,\n",
       " 0,\n",
       " 0,\n",
       " 0,\n",
       " 0,\n",
       " 0,\n",
       " 0,\n",
       " 0,\n",
       " 0,\n",
       " 0,\n",
       " 0,\n",
       " 0,\n",
       " 0,\n",
       " 0,\n",
       " 0,\n",
       " 0,\n",
       " 0,\n",
       " 0,\n",
       " 0,\n",
       " 0,\n",
       " 0,\n",
       " 0,\n",
       " 0,\n",
       " 0,\n",
       " 0,\n",
       " 0,\n",
       " 0,\n",
       " 0,\n",
       " 0,\n",
       " 0,\n",
       " 0,\n",
       " 0,\n",
       " 0,\n",
       " 0,\n",
       " 0,\n",
       " 0,\n",
       " 0,\n",
       " 0,\n",
       " 0,\n",
       " 0,\n",
       " 0,\n",
       " 0,\n",
       " 0,\n",
       " 0,\n",
       " 0,\n",
       " 0,\n",
       " 0,\n",
       " 0,\n",
       " 0,\n",
       " 0,\n",
       " 0,\n",
       " 0,\n",
       " 0,\n",
       " 0,\n",
       " 0,\n",
       " 0,\n",
       " 0,\n",
       " 0,\n",
       " 0,\n",
       " 0,\n",
       " 0,\n",
       " 0,\n",
       " 0,\n",
       " 0,\n",
       " 0,\n",
       " 0,\n",
       " 0,\n",
       " 0,\n",
       " 0,\n",
       " 0,\n",
       " 0,\n",
       " 600,\n",
       " 600,\n",
       " 700,\n",
       " 800,\n",
       " 800,\n",
       " 900,\n",
       " 900,\n",
       " 900,\n",
       " 900,\n",
       " 1000,\n",
       " 1000,\n",
       " 1100,\n",
       " 1100,\n",
       " 1100,\n",
       " 1100,\n",
       " 1100,\n",
       " 1100,\n",
       " 1100,\n",
       " 1200,\n",
       " 1300,\n",
       " 1300,\n",
       " 1300,\n",
       " 1400,\n",
       " 1400,\n",
       " 1400,\n",
       " 1500,\n",
       " 1500,\n",
       " 1500,\n",
       " 1500,\n",
       " 1600,\n",
       " 1600,\n",
       " 1600,\n",
       " 1600,\n",
       " 1600,\n",
       " 1600,\n",
       " 1600,\n",
       " 1600,\n",
       " 1600,\n",
       " 1700,\n",
       " 1700,\n",
       " 1700,\n",
       " 1700,\n",
       " 1700,\n",
       " 1700,\n",
       " 1800,\n",
       " 1800,\n",
       " 1800,\n",
       " 1800,\n",
       " 1800,\n",
       " 1900,\n",
       " 1900,\n",
       " 2000,\n",
       " 2000,\n",
       " 2000,\n",
       " 2000,\n",
       " 2000,\n",
       " 2000,\n",
       " 2000,\n",
       " 2000,\n",
       " 2000,\n",
       " 2000,\n",
       " 2000,\n",
       " 2100,\n",
       " 2100,\n",
       " 2100,\n",
       " 2100,\n",
       " 2100,\n",
       " 2100,\n",
       " 2100,\n",
       " 2100,\n",
       " 2100,\n",
       " 2100,\n",
       " 2100,\n",
       " 2100,\n",
       " 2200,\n",
       " 2200,\n",
       " 2200,\n",
       " 2200,\n",
       " 2200,\n",
       " 2200,\n",
       " 2200,\n",
       " 2200,\n",
       " 2200,\n",
       " 2200,\n",
       " 2200,\n",
       " 2200,\n",
       " 2200,\n",
       " 2200,\n",
       " 2200,\n",
       " 2200,\n",
       " 2200,\n",
       " 2200,\n",
       " 2200,\n",
       " 2200,\n",
       " 2200,\n",
       " 2200,\n",
       " 2200,\n",
       " 2200,\n",
       " 2200,\n",
       " 2200,\n",
       " 2300,\n",
       " 2300,\n",
       " 2300,\n",
       " 2300,\n",
       " 2300,\n",
       " 2300,\n",
       " 2300,\n",
       " 2300,\n",
       " 2300,\n",
       " 2300,\n",
       " 2300,\n",
       " 2300,\n",
       " 2300,\n",
       " 2300,\n",
       " 2300,\n",
       " 2300,\n",
       " 2300,\n",
       " 2300,\n",
       " 2300,\n",
       " 2300,\n",
       " 2300,\n",
       " 2300,\n",
       " 2300,\n",
       " 2300,\n",
       " 2300,\n",
       " 2300,\n",
       " 2300,\n",
       " 2300,\n",
       " 2300,\n",
       " 2300,\n",
       " 2300,\n",
       " 2300,\n",
       " 2300,\n",
       " 2300,\n",
       " 2300,\n",
       " 2300,\n",
       " 2300,\n",
       " 2300,\n",
       " 2300,\n",
       " 2300,\n",
       " 2400,\n",
       " 2400,\n",
       " 2400,\n",
       " 2400,\n",
       " 2400,\n",
       " 2400,\n",
       " 2400,\n",
       " 2400,\n",
       " 2400,\n",
       " 2400,\n",
       " 2400,\n",
       " 2400,\n",
       " 2400,\n",
       " 2400,\n",
       " 2400,\n",
       " 2400,\n",
       " 2400,\n",
       " 2400,\n",
       " 2400,\n",
       " 2400,\n",
       " 2400,\n",
       " 2400,\n",
       " 2400,\n",
       " 2400,\n",
       " 2400,\n",
       " 2400,\n",
       " 2400,\n",
       " 2400,\n",
       " 2400,\n",
       " 2400,\n",
       " 2400,\n",
       " 2400,\n",
       " 2400,\n",
       " 2400,\n",
       " 2400,\n",
       " 2400,\n",
       " 2400,\n",
       " 2400,\n",
       " 2400,\n",
       " 2400,\n",
       " 2400,\n",
       " 2400,\n",
       " 2400,\n",
       " 2400,\n",
       " 2400,\n",
       " 2400,\n",
       " 2400,\n",
       " 2400,\n",
       " 2400,\n",
       " 2400,\n",
       " 2400,\n",
       " 2400,\n",
       " 2400,\n",
       " 2400,\n",
       " 2400,\n",
       " 2400,\n",
       " 2400,\n",
       " 2400,\n",
       " 2400,\n",
       " 2400,\n",
       " 2400,\n",
       " 2400,\n",
       " 2400,\n",
       " 2400,\n",
       " 2400,\n",
       " 2400,\n",
       " 2400,\n",
       " 2400,\n",
       " 2400,\n",
       " 2400,\n",
       " 2400,\n",
       " 2400,\n",
       " 2400,\n",
       " 2400,\n",
       " 2400,\n",
       " 2400,\n",
       " 2400,\n",
       " 2400,\n",
       " 2400,\n",
       " 2400,\n",
       " 2400,\n",
       " 2400,\n",
       " 2400,\n",
       " 2400,\n",
       " 2400,\n",
       " 2400,\n",
       " 2400,\n",
       " 2400,\n",
       " 2400,\n",
       " 2400,\n",
       " 2400,\n",
       " 2400,\n",
       " 2400,\n",
       " 2400,\n",
       " 2400,\n",
       " 2400,\n",
       " 2400,\n",
       " 2400,\n",
       " 2400,\n",
       " 2400,\n",
       " 2400,\n",
       " 2400,\n",
       " 2400,\n",
       " 2400,\n",
       " 2400,\n",
       " 2400,\n",
       " 2400,\n",
       " 2400,\n",
       " 2400,\n",
       " 2400,\n",
       " 2400,\n",
       " 2400,\n",
       " 2400,\n",
       " 2400,\n",
       " 2400,\n",
       " 2400,\n",
       " 2400,\n",
       " 2400,\n",
       " 2400,\n",
       " 2400,\n",
       " 2400,\n",
       " 2400,\n",
       " 2400,\n",
       " 2400,\n",
       " 2400,\n",
       " 2400,\n",
       " 2400,\n",
       " 2400,\n",
       " 2400,\n",
       " 2400,\n",
       " 2400,\n",
       " 2400,\n",
       " 2400,\n",
       " 2400,\n",
       " 2400,\n",
       " 2400,\n",
       " 2400,\n",
       " 2400,\n",
       " 2400,\n",
       " 2400,\n",
       " 2400,\n",
       " 2400,\n",
       " 2400,\n",
       " 2400,\n",
       " 2400,\n",
       " 2400,\n",
       " 2400,\n",
       " 2400,\n",
       " 2400,\n",
       " 2400,\n",
       " 2400,\n",
       " 2400,\n",
       " 2400,\n",
       " 2400,\n",
       " 2400,\n",
       " 2400,\n",
       " 2400,\n",
       " 2400,\n",
       " 2400,\n",
       " 2400,\n",
       " 2400,\n",
       " 2400,\n",
       " 2400,\n",
       " 2400,\n",
       " 2400,\n",
       " 2400,\n",
       " 2400,\n",
       " 2400,\n",
       " 2400,\n",
       " 2400,\n",
       " 2400,\n",
       " 2400,\n",
       " 2400,\n",
       " 2400,\n",
       " 2400,\n",
       " 2400,\n",
       " 2400,\n",
       " 2400,\n",
       " 2400,\n",
       " 2400,\n",
       " 2400,\n",
       " 2400,\n",
       " 2400,\n",
       " 2400,\n",
       " 2400,\n",
       " 2400,\n",
       " 2400,\n",
       " 2400,\n",
       " 2400,\n",
       " 2400,\n",
       " 2400,\n",
       " 2400,\n",
       " 2400,\n",
       " 2400,\n",
       " 2400,\n",
       " 2400,\n",
       " 2400,\n",
       " 2400,\n",
       " 2400,\n",
       " 2400,\n",
       " 2400,\n",
       " 2400,\n",
       " 2400,\n",
       " 2400,\n",
       " 2400,\n",
       " 2400,\n",
       " 2400,\n",
       " 2400,\n",
       " 2500,\n",
       " 2500,\n",
       " 2500,\n",
       " 2500,\n",
       " 2500,\n",
       " 2500,\n",
       " 2500,\n",
       " 2500,\n",
       " 2500,\n",
       " 2500,\n",
       " 2500,\n",
       " 2500,\n",
       " 2500,\n",
       " 2500,\n",
       " 2500,\n",
       " 2500,\n",
       " 2500,\n",
       " 2500,\n",
       " 2500,\n",
       " 2500,\n",
       " 2500,\n",
       " 2500,\n",
       " 2500,\n",
       " 2500,\n",
       " 2500,\n",
       " 2500,\n",
       " 2500,\n",
       " 2500,\n",
       " 2500,\n",
       " 2500,\n",
       " 2500,\n",
       " 2500,\n",
       " 2500,\n",
       " 2500,\n",
       " 2500,\n",
       " 2500,\n",
       " 2500,\n",
       " 2500,\n",
       " 2500,\n",
       " 2500,\n",
       " 2500,\n",
       " 2500,\n",
       " 2500,\n",
       " 2500,\n",
       " 2500,\n",
       " 2500,\n",
       " 2500,\n",
       " 2500,\n",
       " 2500,\n",
       " 2500,\n",
       " 2500,\n",
       " 2500,\n",
       " 2500,\n",
       " 2500,\n",
       " 2500,\n",
       " 2500,\n",
       " 2500,\n",
       " 2500,\n",
       " 2500,\n",
       " 2500,\n",
       " 2500,\n",
       " 2500,\n",
       " 2500,\n",
       " 2500,\n",
       " 2500,\n",
       " 2500,\n",
       " 2500,\n",
       " 2500,\n",
       " 2500,\n",
       " 2500,\n",
       " 2500,\n",
       " 2500,\n",
       " 2500,\n",
       " 2500,\n",
       " 2500,\n",
       " 2500,\n",
       " 2500,\n",
       " 2500,\n",
       " 2500,\n",
       " 2500,\n",
       " 2500,\n",
       " 2500,\n",
       " 2500,\n",
       " 2500,\n",
       " 2500,\n",
       " 2500,\n",
       " 2500,\n",
       " 2500,\n",
       " 2500,\n",
       " 2500,\n",
       " 2500,\n",
       " 2500,\n",
       " 2500,\n",
       " 2500,\n",
       " 2500,\n",
       " 2500,\n",
       " 2500,\n",
       " 2500,\n",
       " 2500,\n",
       " 2500,\n",
       " 2500,\n",
       " 2500,\n",
       " 2500,\n",
       " 2500,\n",
       " 2500,\n",
       " 2500,\n",
       " 2500,\n",
       " 2500,\n",
       " 2500,\n",
       " 2500,\n",
       " 2500,\n",
       " 2500,\n",
       " 2500,\n",
       " 2500,\n",
       " 2500,\n",
       " 2500,\n",
       " 2500,\n",
       " 2500,\n",
       " 2500,\n",
       " 2500,\n",
       " 2500,\n",
       " 2500,\n",
       " 2500,\n",
       " 2500,\n",
       " 2500,\n",
       " 2500,\n",
       " 2500,\n",
       " 2500,\n",
       " 2500,\n",
       " 2500,\n",
       " 2500,\n",
       " 2500,\n",
       " 2500,\n",
       " 2500,\n",
       " 2500,\n",
       " 2500,\n",
       " 2500,\n",
       " 2500,\n",
       " 2500,\n",
       " 2500,\n",
       " 2500,\n",
       " 2500,\n",
       " 2500,\n",
       " 2500,\n",
       " 2500,\n",
       " 2500,\n",
       " 2500,\n",
       " 2500,\n",
       " 2500,\n",
       " 2500,\n",
       " 2500,\n",
       " 2500,\n",
       " 2500,\n",
       " 2500,\n",
       " 2500,\n",
       " 2500,\n",
       " 2500,\n",
       " 2500,\n",
       " 2500,\n",
       " 2500,\n",
       " 2500,\n",
       " 2500,\n",
       " 2500,\n",
       " 2500,\n",
       " 2500,\n",
       " 2500,\n",
       " 2500,\n",
       " 2500,\n",
       " 2500,\n",
       " 2500,\n",
       " 2500,\n",
       " 2500,\n",
       " 2500,\n",
       " 2500,\n",
       " 2500,\n",
       " 2500,\n",
       " 2500,\n",
       " 2500,\n",
       " 2500,\n",
       " 2500,\n",
       " 2500,\n",
       " 2500,\n",
       " 2500,\n",
       " 2500,\n",
       " 2500,\n",
       " 2500,\n",
       " 2500,\n",
       " 2500,\n",
       " 2500,\n",
       " 2500,\n",
       " 2500,\n",
       " 2500,\n",
       " 2500,\n",
       " 2500,\n",
       " 2500,\n",
       " 2500,\n",
       " 2500,\n",
       " 2500,\n",
       " 2500,\n",
       " 2500,\n",
       " 2500,\n",
       " 2500,\n",
       " 2500,\n",
       " 2500,\n",
       " 2500,\n",
       " 2500,\n",
       " 2500,\n",
       " 2500,\n",
       " 2500,\n",
       " 2500,\n",
       " 2500,\n",
       " 2500,\n",
       " 2500,\n",
       " 2500,\n",
       " 2500,\n",
       " 2500,\n",
       " 2500,\n",
       " 2500,\n",
       " 2500,\n",
       " 2500,\n",
       " 2500,\n",
       " 2500,\n",
       " 2500,\n",
       " 2500,\n",
       " 2500,\n",
       " 2500,\n",
       " 2500,\n",
       " 2500,\n",
       " 2500,\n",
       " 2500,\n",
       " 2500,\n",
       " 2500,\n",
       " 2500,\n",
       " 2500,\n",
       " 2500,\n",
       " 2500,\n",
       " 2500,\n",
       " 2500,\n",
       " 2500,\n",
       " 2500,\n",
       " 2500,\n",
       " 2500,\n",
       " 2500,\n",
       " 2500,\n",
       " 2500,\n",
       " 2500,\n",
       " 2500,\n",
       " 2500,\n",
       " 2500,\n",
       " 2500,\n",
       " 2500,\n",
       " 2500,\n",
       " 2500,\n",
       " 2500,\n",
       " 2500,\n",
       " 2500,\n",
       " 2500,\n",
       " 2500,\n",
       " 2500,\n",
       " 2500,\n",
       " 2500,\n",
       " 2500,\n",
       " 2500,\n",
       " 2500,\n",
       " 2500,\n",
       " 2500,\n",
       " 2500,\n",
       " 2500,\n",
       " 2500,\n",
       " 2500,\n",
       " 2500,\n",
       " 2500,\n",
       " 2500,\n",
       " 2500,\n",
       " 2500,\n",
       " 2500,\n",
       " 2500,\n",
       " 2500,\n",
       " 2500,\n",
       " 2500,\n",
       " 2500,\n",
       " 2500,\n",
       " 2500,\n",
       " 2500,\n",
       " 2500,\n",
       " 2500,\n",
       " 2500,\n",
       " 2500,\n",
       " 2500,\n",
       " 2500,\n",
       " 2500,\n",
       " 2500,\n",
       " 2500,\n",
       " 2500,\n",
       " 2500,\n",
       " 2500,\n",
       " 2500,\n",
       " 2500,\n",
       " 2500,\n",
       " 2500,\n",
       " 2500,\n",
       " 2500,\n",
       " 2500,\n",
       " 2500,\n",
       " 2500,\n",
       " 2500,\n",
       " 2500,\n",
       " 2500,\n",
       " 2500,\n",
       " 2500,\n",
       " 2500,\n",
       " 2500,\n",
       " 2500,\n",
       " 2500,\n",
       " 2500,\n",
       " 2500,\n",
       " 2500,\n",
       " 2500,\n",
       " 2500,\n",
       " 2500,\n",
       " 2500,\n",
       " 2500,\n",
       " 2500,\n",
       " 2500,\n",
       " 2500,\n",
       " 2500,\n",
       " 2500,\n",
       " 2500,\n",
       " 2500,\n",
       " 2500,\n",
       " 2500,\n",
       " 2500,\n",
       " 2500,\n",
       " 2500,\n",
       " 2500,\n",
       " 2500,\n",
       " 2500,\n",
       " 2500,\n",
       " 2500,\n",
       " 2500,\n",
       " 2500,\n",
       " 2500,\n",
       " 2500,\n",
       " 2500,\n",
       " 2500,\n",
       " 2500,\n",
       " 2500,\n",
       " 2500,\n",
       " 2500,\n",
       " 2500,\n",
       " 2500,\n",
       " 2500,\n",
       " 2500,\n",
       " 2500,\n",
       " 2500,\n",
       " 2500,\n",
       " 2500,\n",
       " 2500,\n",
       " 2500,\n",
       " 2500,\n",
       " 2500,\n",
       " 2500,\n",
       " 2500,\n",
       " 2500,\n",
       " 2500,\n",
       " 2500,\n",
       " 2500,\n",
       " 2500,\n",
       " 2500,\n",
       " 2500,\n",
       " 2500,\n",
       " 2500,\n",
       " 2500,\n",
       " 2500,\n",
       " 2500,\n",
       " 2500,\n",
       " 2500,\n",
       " 2500,\n",
       " 2500,\n",
       " 2500,\n",
       " 2500,\n",
       " 2500,\n",
       " 2500,\n",
       " 2500,\n",
       " 2500,\n",
       " 2500,\n",
       " 2500,\n",
       " 2500,\n",
       " 2500,\n",
       " 2500,\n",
       " 2500,\n",
       " 2500,\n",
       " 2500,\n",
       " 2500,\n",
       " 2500,\n",
       " 2500,\n",
       " ...]"
      ]
     },
     "execution_count": 6,
     "metadata": {},
     "output_type": "execute_result"
    }
   ],
   "source": [
    "amountList"
   ]
  },
  {
   "cell_type": "code",
   "execution_count": null,
   "metadata": {},
   "outputs": [],
   "source": [
    "### 문제. TOTAL_AMOUNT의 평균을 구한다 (최소/최대값 모두 제거)\n",
    "### Step1 : 데이터를 정렬한다.(오름차순)\n",
    "### Step2 : 최소값 최대값을 계산한다.\n",
    "### Step3 : 최소값 최대값 각각의 개수를 산출한다.\n",
    "### Step4 : 평균계산 = 초기리스트합 - (최소값*최소값개수) - (최대값*최대값개수)\n",
    "###                    / 초기리스트개수 - (최소값개수) - (최대값개수)"
   ]
  },
  {
   "cell_type": "markdown",
   "metadata": {},
   "source": [
    "### Step1 : 데이터를 정렬한다.(오름차순)"
   ]
  },
  {
   "cell_type": "code",
   "execution_count": 8,
   "metadata": {},
   "outputs": [],
   "source": [
    "amountList.sort()"
   ]
  },
  {
   "cell_type": "markdown",
   "metadata": {},
   "source": [
    "### Step2 : 최소값 최대값을 계산한다."
   ]
  },
  {
   "cell_type": "code",
   "execution_count": 9,
   "metadata": {},
   "outputs": [],
   "source": [
    "minValue = min(amountList)\n",
    "maxValue = max(amountList)"
   ]
  },
  {
   "cell_type": "markdown",
   "metadata": {},
   "source": [
    "### Step3 : 최소값 최대값 각각의 개수를 산출한다."
   ]
  },
  {
   "cell_type": "code",
   "execution_count": 10,
   "metadata": {},
   "outputs": [],
   "source": [
    "minValuCnt = amountList.count(minValue)\n",
    "maxValuCnt = amountList.count(maxValue)"
   ]
  },
  {
   "cell_type": "markdown",
   "metadata": {},
   "source": [
    "### Step4 : 평균계산"
   ]
  },
  {
   "cell_type": "code",
   "execution_count": null,
   "metadata": {},
   "outputs": [],
   "source": [
    " # 초기리스트합 - (최소값 '*' 최소값개수) - (최대값*최대값개수)"
   ]
  },
  {
   "cell_type": "code",
   "execution_count": null,
   "metadata": {},
   "outputs": [],
   "source": [
    "finalSum = sum(amountList)- (minValue*minValueCnt) - (maxValue*maxValueCnt)"
   ]
  },
  {
   "cell_type": "code",
   "execution_count": null,
   "metadata": {},
   "outputs": [],
   "source": [
    "finalLen = len(amountList)-minValueCnt - maxValueCnt"
   ]
  },
  {
   "cell_type": "code",
   "execution_count": null,
   "metadata": {},
   "outputs": [],
   "source": []
  },
  {
   "cell_type": "code",
   "execution_count": null,
   "metadata": {},
   "outputs": [],
   "source": [
    "answer = sum(amountList) - (minValue*minValueCnt) - (maxValue*maxValueCnt)/ \\\n",
    "         (len(amountList)-minValueCnt - maxValueCnt)"
   ]
  },
  {
   "cell_type": "code",
   "execution_count": null,
   "metadata": {},
   "outputs": [],
   "source": [
    "answer"
   ]
  },
  {
   "cell_type": "code",
   "execution_count": null,
   "metadata": {},
   "outputs": [],
   "source": []
  },
  {
   "cell_type": "markdown",
   "metadata": {},
   "source": [
    "# 튜플"
   ]
  },
  {
   "cell_type": "code",
   "execution_count": 16,
   "metadata": {},
   "outputs": [],
   "source": [
    "priceList = [100,200,150,170]"
   ]
  },
  {
   "cell_type": "code",
   "execution_count": 17,
   "metadata": {},
   "outputs": [],
   "source": [
    "priceTuple1 = (100,200,150,170)"
   ]
  },
  {
   "cell_type": "code",
   "execution_count": 19,
   "metadata": {},
   "outputs": [],
   "source": [
    "priceSet1 = {100,150,200,170}\n",
    "priceSet2 = {100,139,210,170}"
   ]
  },
  {
   "cell_type": "code",
   "execution_count": null,
   "metadata": {},
   "outputs": [],
   "source": [
    "# 2020년도 1~6주차 데이터가 다 있는지 확인한다."
   ]
  },
  {
   "cell_type": "code",
   "execution_count": 27,
   "metadata": {},
   "outputs": [],
   "source": [
    "allWeek = {1,2,3,4,5,6}"
   ]
  },
  {
   "cell_type": "code",
   "execution_count": 28,
   "metadata": {},
   "outputs": [],
   "source": [
    "existWeek = {1,2,3,5,6}"
   ]
  },
  {
   "cell_type": "code",
   "execution_count": 30,
   "metadata": {},
   "outputs": [
    {
     "data": {
      "text/plain": [
       "{4}"
      ]
     },
     "execution_count": 30,
     "metadata": {},
     "output_type": "execute_result"
    }
   ],
   "source": [
    "allWeek - existWeek"
   ]
  },
  {
   "cell_type": "code",
   "execution_count": null,
   "metadata": {},
   "outputs": [],
   "source": [
    "202001,202002,202003,202005,202006"
   ]
  },
  {
   "cell_type": "code",
   "execution_count": null,
   "metadata": {},
   "outputs": [],
   "source": []
  },
  {
   "cell_type": "code",
   "execution_count": 24,
   "metadata": {},
   "outputs": [
    {
     "data": {
      "text/plain": [
       "{100, 170}"
      ]
     },
     "execution_count": 24,
     "metadata": {},
     "output_type": "execute_result"
    }
   ],
   "source": [
    "priceSet1.intersection(priceSet2)"
   ]
  },
  {
   "cell_type": "code",
   "execution_count": 23,
   "metadata": {},
   "outputs": [
    {
     "data": {
      "text/plain": [
       "{150, 200}"
      ]
     },
     "execution_count": 23,
     "metadata": {},
     "output_type": "execute_result"
    }
   ],
   "source": [
    "priceSet1.difference(priceSet2)"
   ]
  },
  {
   "cell_type": "code",
   "execution_count": 31,
   "metadata": {},
   "outputs": [],
   "source": [
    "priceTuple1=(100,200,150,170)"
   ]
  },
  {
   "cell_type": "code",
   "execution_count": 32,
   "metadata": {},
   "outputs": [],
   "source": [
    "priceList = [10,20,30,40]"
   ]
  },
  {
   "cell_type": "code",
   "execution_count": 34,
   "metadata": {},
   "outputs": [],
   "source": [
    "priceDict = {\"price\" : priceList,\n",
    "             \"yearweek\":[202001,202002,202003,202004]}"
   ]
  },
  {
   "cell_type": "code",
   "execution_count": 38,
   "metadata": {},
   "outputs": [
    {
     "data": {
      "text/plain": [
       "[10, 20, 30, 40]"
      ]
     },
     "execution_count": 38,
     "metadata": {},
     "output_type": "execute_result"
    }
   ],
   "source": [
    "priceDict[\"price\"]"
   ]
  },
  {
   "cell_type": "code",
   "execution_count": 35,
   "metadata": {},
   "outputs": [],
   "source": [
    "import pandas as pd"
   ]
  },
  {
   "cell_type": "code",
   "execution_count": 36,
   "metadata": {},
   "outputs": [
    {
     "data": {
      "text/html": [
       "<div>\n",
       "<style scoped>\n",
       "    .dataframe tbody tr th:only-of-type {\n",
       "        vertical-align: middle;\n",
       "    }\n",
       "\n",
       "    .dataframe tbody tr th {\n",
       "        vertical-align: top;\n",
       "    }\n",
       "\n",
       "    .dataframe thead th {\n",
       "        text-align: right;\n",
       "    }\n",
       "</style>\n",
       "<table border=\"1\" class=\"dataframe\">\n",
       "  <thead>\n",
       "    <tr style=\"text-align: right;\">\n",
       "      <th></th>\n",
       "      <th>price</th>\n",
       "    </tr>\n",
       "  </thead>\n",
       "  <tbody>\n",
       "    <tr>\n",
       "      <th>0</th>\n",
       "      <td>10</td>\n",
       "    </tr>\n",
       "    <tr>\n",
       "      <th>1</th>\n",
       "      <td>20</td>\n",
       "    </tr>\n",
       "    <tr>\n",
       "      <th>2</th>\n",
       "      <td>30</td>\n",
       "    </tr>\n",
       "    <tr>\n",
       "      <th>3</th>\n",
       "      <td>40</td>\n",
       "    </tr>\n",
       "  </tbody>\n",
       "</table>\n",
       "</div>"
      ],
      "text/plain": [
       "   price\n",
       "0     10\n",
       "1     20\n",
       "2     30\n",
       "3     40"
      ]
     },
     "execution_count": 36,
     "metadata": {},
     "output_type": "execute_result"
    }
   ],
   "source": [
    "pd.DataFrame(priceDict)"
   ]
  },
  {
   "cell_type": "code",
   "execution_count": 39,
   "metadata": {},
   "outputs": [],
   "source": [
    "dic = {\"name\":\"sec\",\"id\":\"300000\",\"address\":\"suwon\"}"
   ]
  },
  {
   "cell_type": "code",
   "execution_count": 40,
   "metadata": {},
   "outputs": [
    {
     "name": "stdout",
     "output_type": "stream",
     "text": [
      "{'name': 'sec', 'address': 'suwon'}\n"
     ]
    }
   ],
   "source": [
    "del dic[\"id\"]\n",
    "print(dic)"
   ]
  },
  {
   "cell_type": "code",
   "execution_count": 41,
   "metadata": {},
   "outputs": [],
   "source": [
    "dic = {\"name\":\"sec\",\"id\":\"300000\",\"address\":\"suwon\"}"
   ]
  },
  {
   "cell_type": "code",
   "execution_count": 43,
   "metadata": {},
   "outputs": [
    {
     "name": "stdout",
     "output_type": "stream",
     "text": [
      "{'name': 'sec', 'address': 'suwon'}\n"
     ]
    }
   ],
   "source": [
    "dic.pop(\"id\")\n",
    "print(dic)"
   ]
  },
  {
   "cell_type": "code",
   "execution_count": 47,
   "metadata": {},
   "outputs": [],
   "source": [
    "import pandas as pd"
   ]
  },
  {
   "cell_type": "code",
   "execution_count": 48,
   "metadata": {},
   "outputs": [],
   "source": [
    "productID =[\"LEDTV\", \"LEDTV\",\"LEDTV\",\"LEDTV\"]\n",
    "yearweekList = [202101,202102,202103,202104]\n",
    "volValueList = [100,120,130,140]"
   ]
  },
  {
   "cell_type": "code",
   "execution_count": 49,
   "metadata": {},
   "outputs": [
    {
     "ename": "NameError",
     "evalue": "name 'productId' is not defined",
     "output_type": "error",
     "traceback": [
      "\u001b[1;31m---------------------------------------------------------------------------\u001b[0m",
      "\u001b[1;31mNameError\u001b[0m                                 Traceback (most recent call last)",
      "\u001b[1;32m<ipython-input-49-1727d947db6f>\u001b[0m in \u001b[0;36m<module>\u001b[1;34m\u001b[0m\n\u001b[1;32m----> 1\u001b[1;33m \u001b[0mproductIdDict\u001b[0m\u001b[1;33m=\u001b[0m\u001b[1;33m{\u001b[0m\u001b[1;34m\"productdict\"\u001b[0m \u001b[1;33m:\u001b[0m \u001b[0mproductId\u001b[0m\u001b[1;33m}\u001b[0m\u001b[1;33m\u001b[0m\u001b[1;33m\u001b[0m\u001b[0m\n\u001b[0m",
      "\u001b[1;31mNameError\u001b[0m: name 'productId' is not defined"
     ]
    }
   ],
   "source": [
    "productIdDict={\"productdict\" : productId,\n",
    "               \"yearweekList\" : yearweekList,\n",
    "               \"volume\": volValueList}"
   ]
  },
  {
   "cell_type": "code",
   "execution_count": null,
   "metadata": {},
   "outputs": [],
   "source": [
    "columnName = [\"PRODUCT\",\"YEARWEEK\", \"VOLUME\"]"
   ]
  },
  {
   "cell_type": "code",
   "execution_count": 51,
   "metadata": {},
   "outputs": [
    {
     "ename": "SyntaxError",
     "evalue": "unexpected EOF while parsing (<ipython-input-51-3623ac41e2b0>, line 4)",
     "output_type": "error",
     "traceback": [
      "\u001b[1;36m  File \u001b[1;32m\"<ipython-input-51-3623ac41e2b0>\"\u001b[1;36m, line \u001b[1;32m4\u001b[0m\n\u001b[1;33m    [\"A01\",\"202003\",130]]       # 3행 데이터\u001b[0m\n\u001b[1;37m                                        ^\u001b[0m\n\u001b[1;31mSyntaxError\u001b[0m\u001b[1;31m:\u001b[0m unexpected EOF while parsing\n"
     ]
    }
   ],
   "source": [
    "pd.DataFrame([\n",
    " [\"A01\",\"202001\",100],       # 1행 데이터\n",
    " [\"A01\",\"202002\",12],        # 2행 데이터\n",
    " [\"A01\",\"202003\",130]]       # 3행 데이터"
   ]
  },
  {
   "cell_type": "code",
   "execution_count": 50,
   "metadata": {},
   "outputs": [
    {
     "ename": "NameError",
     "evalue": "name 'productIdDict' is not defined",
     "output_type": "error",
     "traceback": [
      "\u001b[1;31m---------------------------------------------------------------------------\u001b[0m",
      "\u001b[1;31mNameError\u001b[0m                                 Traceback (most recent call last)",
      "\u001b[1;32m<ipython-input-50-2b6c45ec2af3>\u001b[0m in \u001b[0;36m<module>\u001b[1;34m\u001b[0m\n\u001b[1;32m----> 1\u001b[1;33m \u001b[0mpd\u001b[0m\u001b[1;33m.\u001b[0m\u001b[0mDataFrame\u001b[0m\u001b[1;33m(\u001b[0m\u001b[0mproductIdDict\u001b[0m\u001b[1;33m)\u001b[0m\u001b[1;33m\u001b[0m\u001b[1;33m\u001b[0m\u001b[0m\n\u001b[0m",
      "\u001b[1;31mNameError\u001b[0m: name 'productIdDict' is not defined"
     ]
    }
   ],
   "source": [
    "pd.DataFrame(zip(productIdDict,\n",
    "             yearweekList,\n",
    "             volValueList),columns=columnName)"
   ]
  },
  {
   "cell_type": "code",
   "execution_count": 52,
   "metadata": {},
   "outputs": [],
   "source": [
    "import numpy as np"
   ]
  },
  {
   "cell_type": "code",
   "execution_count": 55,
   "metadata": {},
   "outputs": [
    {
     "data": {
      "text/plain": [
       "array([  1.        ,   6.21052632,  11.42105263,  16.63157895,\n",
       "        21.84210526,  27.05263158,  32.26315789,  37.47368421,\n",
       "        42.68421053,  47.89473684,  53.10526316,  58.31578947,\n",
       "        63.52631579,  68.73684211,  73.94736842,  79.15789474,\n",
       "        84.36842105,  89.57894737,  94.78947368, 100.        ])"
      ]
     },
     "execution_count": 55,
     "metadata": {},
     "output_type": "execute_result"
    }
   ],
   "source": [
    "np.linspace(start = 1, stop = 100, num = 20)"
   ]
  },
  {
   "cell_type": "code",
   "execution_count": 1,
   "metadata": {},
   "outputs": [],
   "source": [
    "import numpy as np"
   ]
  },
  {
   "cell_type": "code",
   "execution_count": 3,
   "metadata": {},
   "outputs": [
    {
     "data": {
      "text/plain": [
       "array([5, 2, 5, 6, 7, 8, 9, 6, 3, 9])"
      ]
     },
     "execution_count": 3,
     "metadata": {},
     "output_type": "execute_result"
    }
   ],
   "source": [
    "np.random.randint(low=0,high=10,size=10)"
   ]
  },
  {
   "cell_type": "code",
   "execution_count": 5,
   "metadata": {},
   "outputs": [],
   "source": [
    "aa=!pip list"
   ]
  },
  {
   "cell_type": "code",
   "execution_count": 6,
   "metadata": {},
   "outputs": [],
   "source": [
    "import pandas as pd"
   ]
  },
  {
   "cell_type": "code",
   "execution_count": 8,
   "metadata": {},
   "outputs": [
    {
     "data": {
      "text/html": [
       "<div>\n",
       "<style scoped>\n",
       "    .dataframe tbody tr th:only-of-type {\n",
       "        vertical-align: middle;\n",
       "    }\n",
       "\n",
       "    .dataframe tbody tr th {\n",
       "        vertical-align: top;\n",
       "    }\n",
       "\n",
       "    .dataframe thead th {\n",
       "        text-align: right;\n",
       "    }\n",
       "</style>\n",
       "<table border=\"1\" class=\"dataframe\">\n",
       "  <thead>\n",
       "    <tr style=\"text-align: right;\">\n",
       "      <th></th>\n",
       "      <th>0</th>\n",
       "    </tr>\n",
       "  </thead>\n",
       "  <tbody>\n",
       "    <tr>\n",
       "      <th>0</th>\n",
       "      <td>Package                            Version</td>\n",
       "    </tr>\n",
       "    <tr>\n",
       "      <th>1</th>\n",
       "      <td>---------------------------------- -----------...</td>\n",
       "    </tr>\n",
       "    <tr>\n",
       "      <th>2</th>\n",
       "      <td>alabaster                          0.7.12</td>\n",
       "    </tr>\n",
       "    <tr>\n",
       "      <th>3</th>\n",
       "      <td>anaconda-client                    1.7.2</td>\n",
       "    </tr>\n",
       "    <tr>\n",
       "      <th>4</th>\n",
       "      <td>anaconda-navigator                 1.9.12</td>\n",
       "    </tr>\n",
       "    <tr>\n",
       "      <th>...</th>\n",
       "      <td>...</td>\n",
       "    </tr>\n",
       "    <tr>\n",
       "      <th>235</th>\n",
       "      <td>yapf                               0.30.0</td>\n",
       "    </tr>\n",
       "    <tr>\n",
       "      <th>236</th>\n",
       "      <td>zict                               2.0.0</td>\n",
       "    </tr>\n",
       "    <tr>\n",
       "      <th>237</th>\n",
       "      <td>zipp                               3.1.0</td>\n",
       "    </tr>\n",
       "    <tr>\n",
       "      <th>238</th>\n",
       "      <td>zope.event                         4.4</td>\n",
       "    </tr>\n",
       "    <tr>\n",
       "      <th>239</th>\n",
       "      <td>zope.interface                     4.7.1</td>\n",
       "    </tr>\n",
       "  </tbody>\n",
       "</table>\n",
       "<p>240 rows × 1 columns</p>\n",
       "</div>"
      ],
      "text/plain": [
       "                                                     0\n",
       "0           Package                            Version\n",
       "1    ---------------------------------- -----------...\n",
       "2            alabaster                          0.7.12\n",
       "3             anaconda-client                    1.7.2\n",
       "4            anaconda-navigator                 1.9.12\n",
       "..                                                 ...\n",
       "235          yapf                               0.30.0\n",
       "236           zict                               2.0.0\n",
       "237           zipp                               3.1.0\n",
       "238             zope.event                         4.4\n",
       "239           zope.interface                     4.7.1\n",
       "\n",
       "[240 rows x 1 columns]"
      ]
     },
     "execution_count": 8,
     "metadata": {},
     "output_type": "execute_result"
    }
   ],
   "source": [
    "pd.DataFrame(aa)"
   ]
  },
  {
   "cell_type": "code",
   "execution_count": null,
   "metadata": {},
   "outputs": [],
   "source": [
    "# 데이터 프레임 라이브러리 활용\n",
    "import pandas as pd  \n",
    "\n",
    "# 데이터프레임 생성\n",
    "name = ['고진원', '윤연심', '고수민', '고수진']\n",
    "age=['59','56','31','29']\n",
    "birth=['07.02','10.16','08.13','09.23']\n",
    "\n",
    "name_df=pd.DataFrame(name,columns=['name'])\n",
    "name_df2=pd.DataFrame(age,columns=['age'])\n",
    "name_df3=pd.DataFrame(birth,columns=['birth'])\n",
    "\n",
    "final = pd.concat([name_df,name_df2,name_df3], axis=1)\n",
    "final"
   ]
  },
  {
   "cell_type": "code",
   "execution_count": 17,
   "metadata": {},
   "outputs": [],
   "source": [
    "# 데이터 프레임 라이브러리 활용\n",
    "import pandas as pd  "
   ]
  },
  {
   "cell_type": "code",
   "execution_count": 18,
   "metadata": {},
   "outputs": [],
   "source": [
    "# 데이터프레임 생성\n",
    "name = ['고진원', '윤연심', '고수민', '고수진']\n",
    "age=['59','56','31','29']\n",
    "birth=['07.02','10.16','08.13','09.23']"
   ]
  },
  {
   "cell_type": "code",
   "execution_count": 19,
   "metadata": {},
   "outputs": [],
   "source": [
    "name_df=pd.DataFrame(name,columns=['name'])\n",
    "name_df2=pd.DataFrame(age,columns=['age'])\n",
    "name_df3=pd.DataFrame(birth,columns=['birth'])"
   ]
  },
  {
   "cell_type": "code",
   "execution_count": 20,
   "metadata": {},
   "outputs": [
    {
     "data": {
      "text/html": [
       "<div>\n",
       "<style scoped>\n",
       "    .dataframe tbody tr th:only-of-type {\n",
       "        vertical-align: middle;\n",
       "    }\n",
       "\n",
       "    .dataframe tbody tr th {\n",
       "        vertical-align: top;\n",
       "    }\n",
       "\n",
       "    .dataframe thead th {\n",
       "        text-align: right;\n",
       "    }\n",
       "</style>\n",
       "<table border=\"1\" class=\"dataframe\">\n",
       "  <thead>\n",
       "    <tr style=\"text-align: right;\">\n",
       "      <th></th>\n",
       "      <th>name</th>\n",
       "      <th>age</th>\n",
       "      <th>birth</th>\n",
       "    </tr>\n",
       "  </thead>\n",
       "  <tbody>\n",
       "    <tr>\n",
       "      <th>0</th>\n",
       "      <td>고진원</td>\n",
       "      <td>59</td>\n",
       "      <td>07.02</td>\n",
       "    </tr>\n",
       "    <tr>\n",
       "      <th>1</th>\n",
       "      <td>윤연심</td>\n",
       "      <td>56</td>\n",
       "      <td>10.16</td>\n",
       "    </tr>\n",
       "    <tr>\n",
       "      <th>2</th>\n",
       "      <td>고수민</td>\n",
       "      <td>31</td>\n",
       "      <td>08.13</td>\n",
       "    </tr>\n",
       "    <tr>\n",
       "      <th>3</th>\n",
       "      <td>고수진</td>\n",
       "      <td>29</td>\n",
       "      <td>09.23</td>\n",
       "    </tr>\n",
       "  </tbody>\n",
       "</table>\n",
       "</div>"
      ],
      "text/plain": [
       "  name age  birth\n",
       "0  고진원  59  07.02\n",
       "1  윤연심  56  10.16\n",
       "2  고수민  31  08.13\n",
       "3  고수진  29  09.23"
      ]
     },
     "execution_count": 20,
     "metadata": {},
     "output_type": "execute_result"
    }
   ],
   "source": [
    "final = pd.concat([name_df,name_df2,name_df3], axis=1)\n",
    "final"
   ]
  },
  {
   "cell_type": "code",
   "execution_count": 1,
   "metadata": {},
   "outputs": [],
   "source": [
    "## 미션 1. 모든 데이터에 \"LEDTV_\"를 붙여라"
   ]
  },
  {
   "cell_type": "code",
   "execution_count": 2,
   "metadata": {},
   "outputs": [],
   "source": [
    "targetList = [\"UN001\",\"UN002\",\"UN003\",\"UN004\"]\n",
    "preFix = \"LEDTV_\""
   ]
  },
  {
   "cell_type": "code",
   "execution_count": 3,
   "metadata": {},
   "outputs": [],
   "source": [
    "targetList[0]=preFix+targetList[0]\n",
    "targetList[1]=preFix+targetList[1]\n",
    "targetList[2]=preFix+targetList[2]\n",
    "targetList[3]=preFix+targetList[3]"
   ]
  },
  {
   "cell_type": "code",
   "execution_count": 4,
   "metadata": {},
   "outputs": [],
   "source": [
    "i=0"
   ]
  },
  {
   "cell_type": "code",
   "execution_count": 5,
   "metadata": {},
   "outputs": [],
   "source": [
    "# while문의 헤더의 종결점은 \":\" 써줘야한다.\n",
    "# 구문은 탭 들여쓰기를 해야한다.\n",
    "while(i < 4) :\n",
    "    targetList[i] = preFix + targetList[i]\n",
    "    # while문은 반복문 마지막에 자동증가 안해줌\n",
    "    i = i + 1"
   ]
  },
  {
   "cell_type": "code",
   "execution_count": 6,
   "metadata": {},
   "outputs": [
    {
     "data": {
      "text/plain": [
       "['LEDTV_LEDTV_UN001',\n",
       " 'LEDTV_LEDTV_UN002',\n",
       " 'LEDTV_LEDTV_UN003',\n",
       " 'LEDTV_LEDTV_UN004']"
      ]
     },
     "execution_count": 6,
     "metadata": {},
     "output_type": "execute_result"
    }
   ],
   "source": [
    "targetList"
   ]
  },
  {
   "cell_type": "code",
   "execution_count": 53,
   "metadata": {},
   "outputs": [],
   "source": [
    "targetListLen = len(targetList)"
   ]
  },
  {
   "cell_type": "code",
   "execution_count": 54,
   "metadata": {},
   "outputs": [
    {
     "data": {
      "text/plain": [
       "[0, 1, 2, 3]"
      ]
     },
     "execution_count": 54,
     "metadata": {},
     "output_type": "execute_result"
    }
   ],
   "source": [
    "list(range(0,4))"
   ]
  },
  {
   "cell_type": "code",
   "execution_count": 63,
   "metadata": {},
   "outputs": [],
   "source": [
    "# i를 0부터 4까지 1씩 증가를 시킨다.\n",
    "# for문의 헤더가 끝나는 지점은 \":\"을 써줘야한다.\n",
    "# 구문은 tab 들여쓰기로 컴퓨터가 인식하게 해준다.\n",
    "for i in range(0, targetListLen): #for문 헤더\n",
    "    targetList[i] = preFix + targetList[i]"
   ]
  },
  {
   "cell_type": "code",
   "execution_count": 64,
   "metadata": {},
   "outputs": [
    {
     "data": {
      "text/plain": [
       "['LEDTV_LEDTV_LEDTV_LEDTV_LEDTV_UN001',\n",
       " 'LEDTV_LEDTV_LEDTV_LEDTV_UN002',\n",
       " 'LEDTV_LEDTV_LEDTV_LEDTV_LEDTV_UN003',\n",
       " 'LEDTV_LEDTV_LEDTV_LEDTV_UN004']"
      ]
     },
     "execution_count": 64,
     "metadata": {},
     "output_type": "execute_result"
    }
   ],
   "source": [
    "targetList"
   ]
  },
  {
   "cell_type": "code",
   "execution_count": 38,
   "metadata": {},
   "outputs": [],
   "source": [
    "tvList2 = [\"UN40EN001\", \"UN40EN002\", \"UN40EN003\", \"UN40EN004\"]"
   ]
  },
  {
   "cell_type": "code",
   "execution_count": 39,
   "metadata": {},
   "outputs": [],
   "source": [
    "tvList2Len = len(tvList2)"
   ]
  },
  {
   "cell_type": "code",
   "execution_count": 40,
   "metadata": {},
   "outputs": [
    {
     "name": "stdout",
     "output_type": "stream",
     "text": [
      "UN40EN001\n",
      "UN40EN002\n",
      "UN40EN003\n",
      "UN40EN004\n"
     ]
    }
   ],
   "source": [
    "for i in range(0,tvList2Len):\n",
    "     print(tvList2[i])"
   ]
  },
  {
   "cell_type": "code",
   "execution_count": 52,
   "metadata": {},
   "outputs": [],
   "source": [
    "scoreLabel = \"D\""
   ]
  },
  {
   "cell_type": "code",
   "execution_count": 53,
   "metadata": {},
   "outputs": [],
   "source": [
    "score = 60"
   ]
  },
  {
   "cell_type": "code",
   "execution_count": 54,
   "metadata": {},
   "outputs": [],
   "source": [
    "# 점수가 50점 미만인 경우\n",
    "if score < 50:\n",
    "    scoreLabel = \"C\"\n",
    "elif score < 80:\n",
    "    scoreLabel = \"B\"\n",
    "else : \n",
    "    scoreLabel = \"A\""
   ]
  },
  {
   "cell_type": "code",
   "execution_count": 55,
   "metadata": {},
   "outputs": [
    {
     "data": {
      "text/plain": [
       "'B'"
      ]
     },
     "execution_count": 55,
     "metadata": {},
     "output_type": "execute_result"
    }
   ],
   "source": [
    "scoreLabel"
   ]
  },
  {
   "cell_type": "code",
   "execution_count": 56,
   "metadata": {},
   "outputs": [],
   "source": [
    "testModel = \"UN40EN001\"\n",
    "preFix = \"LEDTV_\"\n",
    "\n",
    "# preFix가 없으면 붙여라\n",
    "if testModel.count(preFix)==0:\n",
    "    testModel = preFix + testModel  # 탭 들여쓰기!!\n",
    "else:\n",
    "    pass"
   ]
  },
  {
   "cell_type": "code",
   "execution_count": null,
   "metadata": {},
   "outputs": [],
   "source": [
    "# Step1 : 리스트에 있는 데이터를 하나씩 확인하자\n",
    "# Step2 : 리스트 아이템 별 prefix 개수를 확인하자\n",
    "# Step3 : preFix >=2 \"LEDTV_LEDTV_UN\" \n",
    "#                     LEDTV_를 전부 공백으로 REPLACE (전부 없앤다)\n",
    "#                     앞에 prefix를 붙이자\n",
    "#         preFix == 1   pass\n",
    "#         preFix < 1    prefix를 붙이자"
   ]
  },
  {
   "cell_type": "code",
   "execution_count": null,
   "metadata": {},
   "outputs": [],
   "source": [
    "SCORE 변수를 80으로 선언 후\n",
    "90점이상 A, 80~90점 B, 이외 C 점수로\n",
    "GRADE변수에 할당하는 프로그램을 구현하세요"
   ]
  },
  {
   "cell_type": "code",
   "execution_count": 65,
   "metadata": {},
   "outputs": [
    {
     "name": "stdout",
     "output_type": "stream",
     "text": [
      "B\n"
     ]
    }
   ],
   "source": [
    "# 변수 설정\n",
    "score = 80\n",
    "\n",
    "# if문 사용\n",
    "if score >= 90:\n",
    "    grade = \"A\"\n",
    "elif score >= 80:\n",
    "    grade = \"B\"\n",
    "else : \n",
    "    grade = \"C\"\n",
    "    \n",
    "print(grade)"
   ]
  },
  {
   "cell_type": "code",
   "execution_count": 61,
   "metadata": {},
   "outputs": [],
   "source": [
    "score = 80"
   ]
  },
  {
   "cell_type": "code",
   "execution_count": 62,
   "metadata": {},
   "outputs": [],
   "source": [
    "if score >= 90:\n",
    "    grade = \"A\"\n",
    "elif score < 80:\n",
    "    grade = \"B\"\n",
    "else : \n",
    "    grade = \"C\""
   ]
  },
  {
   "cell_type": "code",
   "execution_count": 63,
   "metadata": {},
   "outputs": [
    {
     "data": {
      "text/plain": [
       "'C'"
      ]
     },
     "execution_count": 63,
     "metadata": {},
     "output_type": "execute_result"
    }
   ],
   "source": [
    "grade"
   ]
  },
  {
   "cell_type": "code",
   "execution_count": null,
   "metadata": {},
   "outputs": [],
   "source": [
    "tvList2 = [ 'UN40EN001', 'LEDTV_UN40EN002',\n",
    "'LEDTV_LEDTV_UN40EN003’, ‘ledtv_UN40EN004’]\n",
    "리스트에서 LEDTV_가 한 개만 앞에 붙도록 하세요\n",
    "(* 대소문자 구분없이 전부 처리!)"
   ]
  },
  {
   "cell_type": "code",
   "execution_count": 28,
   "metadata": {},
   "outputs": [],
   "source": [
    "tvList2 = [ 'UN40EN001', 'LEDTV_UN40EN002', 'LEDTV_LEDTV_UN40EN003', 'ledtv_UN40EN004']\n",
    "preFix = \"LEDTV_\"\n",
    "preFix1 = \"ledtv_\""
   ]
  },
  {
   "cell_type": "code",
   "execution_count": 30,
   "metadata": {},
   "outputs": [
    {
     "name": "stdout",
     "output_type": "stream",
     "text": [
      "['LEDTV_LEDTV_UN40EN001', 'LEDTV_LEDTV_LEDTV_UN40EN002', 'LEDTV_LEDTV_LEDTV_LEDTV_UN40EN003', 'LEDTV_LEDTV_ledtv_UN40EN004']\n"
     ]
    }
   ],
   "source": [
    "# for문 타입 지정 및 리스트 길이 변수 지정타입 지정 및 리스트 길이 변수 지정\n",
    "tvList2 = [ 'UN40EN001', 'LEDTV_UN40EN002', 'LEDTV_LEDTV_UN40EN003', 'ledtv_UN40EN004']\n",
    "preFix = \"LEDTV_\"\n",
    "preFix1 = \"ledtv_\n",
    "\n",
    "\n",
    "for i in range(0, len(tvList2), 1):\n",
    "    \n",
    "    if tvList.count(preFix)>=2:\n",
    "        tvList2[i] = tvList.replace(preFix,\"\")\n",
    "        tvList2[i] = preFix + tvList2[i]\n",
    "    elif tvList.count(preFix) == 1:\n",
    "        pass\n",
    "    else: tvList2[i] = preFix + tvList2[i]\n",
    "\n",
    "print(tvList2)"
   ]
  },
  {
   "cell_type": "code",
   "execution_count": 24,
   "metadata": {},
   "outputs": [],
   "source": [
    "if tvList.count(preFix)==2:\n",
    "    tvList2[i] = tvList.replace(preFix,\"\")\n",
    "    tvList2[i] = preFix + tvList2[i]\n",
    "elif tvList.count(preFix) == 1:\n",
    "    pass\n",
    "else:\n",
    "    tvList2[i] = preFix + tvList2[i]"
   ]
  },
  {
   "cell_type": "code",
   "execution_count": 9,
   "metadata": {},
   "outputs": [
    {
     "data": {
      "text/plain": [
       "'LEDTV_UN40EN004'"
      ]
     },
     "execution_count": 9,
     "metadata": {},
     "output_type": "execute_result"
    }
   ],
   "source": [
    "tvList"
   ]
  },
  {
   "cell_type": "code",
   "execution_count": null,
   "metadata": {},
   "outputs": [],
   "source": []
  }
 ],
 "metadata": {
  "kernelspec": {
   "display_name": "Python 3",
   "language": "python",
   "name": "python3"
  },
  "language_info": {
   "codemirror_mode": {
    "name": "ipython",
    "version": 3
   },
   "file_extension": ".py",
   "mimetype": "text/x-python",
   "name": "python",
   "nbconvert_exporter": "python",
   "pygments_lexer": "ipython3",
   "version": "3.8.3"
  }
 },
 "nbformat": 4,
 "nbformat_minor": 4
}
