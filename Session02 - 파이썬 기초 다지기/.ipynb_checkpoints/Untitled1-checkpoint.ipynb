{
 "cells": [
  {
   "cell_type": "markdown",
   "metadata": {},
   "source": [
    "SCORE  변수를 80으로 선언 후\n",
    "90점이상 A, 80~90점 B, 이외 C 점수로\n",
    "GRADE변수에 할당하는 프로그램을 구현하세요"
   ]
  },
  {
   "cell_type": "code",
   "execution_count": 1,
   "metadata": {},
   "outputs": [],
   "source": [
    "score = 80 \n",
    "grade = \"A\""
   ]
  },
  {
   "cell_type": "code",
   "execution_count": 3,
   "metadata": {},
   "outputs": [
    {
     "name": "stdout",
     "output_type": "stream",
     "text": [
      "B\n"
     ]
    }
   ],
   "source": [
    "if score >= 90 :\n",
    "    grade = \"A\"\n",
    "elif score >= 80:\n",
    "    grade = \"B\"\n",
    "else:\n",
    "    grade=\"C\"\n",
    "print(grade)"
   ]
  },
  {
   "cell_type": "code",
   "execution_count": null,
   "metadata": {},
   "outputs": [],
   "source": [
    "tvList2 = [ 'UN40EN001', 'LEDTV_UN40EN002', 'LEDTV_LEDTV_UN40EN003', 'ledtv_UN40EN004']\n",
    "리스트에서 LEDTV_가 한 개만 앞에 붙도록 하세요\n",
    "(* 대소문자 구분없이 전부 처리!)"
   ]
  },
  {
   "cell_type": "code",
   "execution_count": 36,
   "metadata": {},
   "outputs": [],
   "source": [
    "tvList2 = [ 'UN40EN001', \n",
    "           'LEDTV_UN40EN002', \n",
    "           'LEDTV_LEDTV_UN40EN003', \n",
    "           'ledtv_UN40EN004']"
   ]
  },
  {
   "cell_type": "code",
   "execution_count": 37,
   "metadata": {},
   "outputs": [],
   "source": [
    "# 입력데이터 접두어 \"LEDTV_\"가 2번 이상 또는 아예 안나올 수도 있다.\n",
    "# 대문자로 표현해야함"
   ]
  },
  {
   "cell_type": "code",
   "execution_count": 39,
   "metadata": {},
   "outputs": [
    {
     "ename": "IndentationError",
     "evalue": "expected an indented block (<ipython-input-39-cdbe3af90339>, line 5)",
     "output_type": "error",
     "traceback": [
      "\u001b[1;36m  File \u001b[1;32m\"<ipython-input-39-cdbe3af90339>\"\u001b[1;36m, line \u001b[1;32m5\u001b[0m\n\u001b[1;33m    loadedModel = tvList2[i]\u001b[0m\n\u001b[1;37m    ^\u001b[0m\n\u001b[1;31mIndentationError\u001b[0m\u001b[1;31m:\u001b[0m expected an indented block\n"
     ]
    }
   ],
   "source": [
    "for i in range(0,len(tvList2)):\n",
    "\n",
    "    # Step1 : 모델코드를 불러온다.(접두어가 2개, 1개, 0개 붙을 수 있다.)\n",
    "    # 디버깅코드\n",
    "    loadedModel = tvList2[i]\n",
    "    # Step2 : 대문자로 변환시킨다.\n",
    "    modelUpper = loadedModel.upper()\n",
    "    # Step3 : 접두어를 찾아 하나만 붙인다.(상세로직)\n",
    "    #         모델코드를 찾고 접두어를 하나만 붙인다. replace\n",
    "    # 1개도 없을 때(clear) -> preFix + 대문자\n",
    "    # 1개 이상일때 \n",
    "    preFix = \"LEDTV_\"\n",
    "    preFixCnt = modelUpper.count(preFix)\n",
    "    print(preFixCnt)\n",
    "\n",
    "    if preFixCnt == 0:\n",
    "\n",
    "        modelUpper = preFix + modelUpper\n",
    "    elif preFixCnt >= 1 :\n",
    "        modelUpper = preFix + model.replace(preFix,\"\")\n",
    "\n",
    "    cvtModel = modelUpper\n",
    "    tvList2[i] = cvtModel"
   ]
  },
  {
   "cell_type": "code",
   "execution_count": null,
   "metadata": {},
   "outputs": [],
   "source": []
  },
  {
   "cell_type": "code",
   "execution_count": 6,
   "metadata": {},
   "outputs": [],
   "source": [
    "# Step4 : 정상모델코드를 출력한다."
   ]
  },
  {
   "cell_type": "code",
   "execution_count": null,
   "metadata": {},
   "outputs": [],
   "source": []
  }
 ],
 "metadata": {
  "kernelspec": {
   "display_name": "Python 3",
   "language": "python",
   "name": "python3"
  },
  "language_info": {
   "codemirror_mode": {
    "name": "ipython",
    "version": 3
   },
   "file_extension": ".py",
   "mimetype": "text/x-python",
   "name": "python",
   "nbconvert_exporter": "python",
   "pygments_lexer": "ipython3",
   "version": "3.8.3"
  }
 },
 "nbformat": 4,
 "nbformat_minor": 4
}
