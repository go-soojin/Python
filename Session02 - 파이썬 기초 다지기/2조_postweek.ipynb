{
 "cells": [
  {
   "cell_type": "code",
   "execution_count": 4,
   "metadata": {},
   "outputs": [
    {
     "data": {
      "text/plain": [
       "'202014'"
      ]
     },
     "execution_count": 4,
     "metadata": {},
     "output_type": "execute_result"
    }
   ],
   "source": [
    "def postWeek(inputYearWeek,plusWeek):\n",
    "    from isoweek import Week\n",
    "\n",
    "    # 형 변환\n",
    "    inputYear = int(str(inputYearWeek)[:4])\n",
    "    inputWeek = int(str(inputYearWeek)[4:])\n",
    "    yearWeek = Week.last_week_of_year(inputYear).week\n",
    "    \n",
    "    # 기준주차 \n",
    "    JudgeWeek = inputWeek + plusWeek  \n",
    "    \n",
    "    # 기준주차 <= 초기년도 총 주차 (년도가 바뀌지 않을 때)\n",
    "    if JudgeWeek <= yearWeek:   \n",
    "        resultYear = str(inputYear)\n",
    "        resultWeek = str(JudgeWeek)        \n",
    "    \n",
    "        # 기준주차 > 초기년도 총 주차 (년도가 바뀔 때)\n",
    "    elif JudgeWeek > yearWeek:\n",
    "        calcYear = inputYear #초기년도에 반복한 횟수만큼 년도 추가\n",
    "        calcWeek = Week.last_week_of_year(calcYear).week  #추가년도의 총 주차\n",
    "        for i in range (1, inputYear):\n",
    "            \n",
    "            if JudgeWeek > yearWeek:\n",
    "                JudgeWeek = JudgeWeek - calcWeek\n",
    "                calcYear = inputYear + i \n",
    "                calcWeek = Week.last_week_of_year(calcYear).week  \n",
    "                resultYear = str(calcYear)\n",
    "                resultWeek = str(JudgeWeek)\n",
    "\n",
    "    if JudgeWeek < 10:  # 기준주차 < 10\n",
    "        resultWeek = \"0\" + resultWeek\n",
    "        \n",
    "    answer = resultYear + resultWeek\n",
    "    return answer \n",
    "\n",
    "postWeek(202020,100)"
   ]
  },
  {
   "cell_type": "code",
   "execution_count": 2,
   "metadata": {},
   "outputs": [
    {
     "data": {
      "text/plain": [
       "'202216'"
      ]
     },
     "execution_count": 2,
     "metadata": {},
     "output_type": "execute_result"
    }
   ],
   "source": [
    "# case1\n",
    "def postWeek(inputYearWeek,plusWeek):\n",
    "    from isoweek import Week\n",
    "\n",
    "    # 형 변환\n",
    "    inputYear = int(str(inputYearWeek)[:4])\n",
    "    inputWeek = int(str(inputYearWeek)[4:])\n",
    "    yearWeek = Week.last_week_of_year(inputYear).week\n",
    "    \n",
    "    # 기준주차 \n",
    "    JudgeWeek = inputWeek + plusWeek  \n",
    "    \n",
    "    # 기준주차 <= 초기년도 총 주차 (년도가 바뀌지 않을 때)\n",
    "    if JudgeWeek <= yearWeek:   \n",
    "        resultYear = str(inputYear)\n",
    "        resultWeek = str(JudgeWeek)        \n",
    "    \n",
    "        # 기준주차 > 초기년도 총 주차 (년도가 바뀔 때)\n",
    "    elif JudgeWeek > yearWeek:\n",
    "        for i in range (1, inputYear):\n",
    "            calcYear = inputYear + i #초기년도에 반복한 횟수만큼 년도 추가\n",
    "            calcWeek = Week.last_week_of_year(calcYear).week  #추가년도의 총 주차\n",
    "            if JudgeWeek > yearWeek:\n",
    "                JudgeWeek = JudgeWeek - calcWeek\n",
    "                resultYear = str(calcYear)\n",
    "                resultWeek = str(JudgeWeek)\n",
    "\n",
    "    if JudgeWeek < 10:  # 기준주차 < 10\n",
    "        resultWeek = \"0\" + resultWeek\n",
    "        \n",
    "    answer = resultYear + resultWeek\n",
    "    return answer \n",
    "\n",
    "postWeek(202020,100)"
   ]
  },
  {
   "cell_type": "code",
   "execution_count": 3,
   "metadata": {},
   "outputs": [
    {
     "data": {
      "text/plain": [
       "'202216'"
      ]
     },
     "execution_count": 3,
     "metadata": {},
     "output_type": "execute_result"
    }
   ],
   "source": [
    "# case2\n",
    "def postWeek(inputYearWeek,plusWeek):\n",
    "    from isoweek import Week\n",
    "\n",
    "    # 형 변환\n",
    "    inputYear = int(str(inputYearWeek)[:4])\n",
    "    inputWeek = int(str(inputYearWeek)[4:])\n",
    "    yearWeek = Week.last_week_of_year(inputYear).week\n",
    "    \n",
    "    # 기준주차 \n",
    "    JudgeWeek = inputWeek + plusWeek  \n",
    "    \n",
    "    # 기준주차 <= 초기년도 총 주차 (년도가 바뀌지 않을 때)\n",
    "    if JudgeWeek <= yearWeek:   \n",
    "        resultYear = str(inputYear)\n",
    "        resultWeek = str(JudgeWeek)        \n",
    "    \n",
    "        # 기준주차 > 초기년도 총 주차 (년도가 바뀔 때)\n",
    "    elif JudgeWeek > yearWeek:\n",
    "        for i in range (1, inputYear):\n",
    "            if JudgeWeek > yearWeek:\n",
    "                calcYear = inputYear + i #초기년도에 반복한 횟수만큼 년도 추가\n",
    "                calcWeek = Week.last_week_of_year(calcYear).week  #추가년도의 총 주차\n",
    "                JudgeWeek = JudgeWeek - calcWeek\n",
    "                resultYear = str(calcYear)\n",
    "                resultWeek = str(JudgeWeek)\n",
    "\n",
    "    if JudgeWeek < 10:  # 기준주차 < 10\n",
    "        resultWeek = \"0\" + resultWeek\n",
    "        \n",
    "    answer = resultYear + resultWeek\n",
    "    return answer \n",
    "\n",
    "postWeek(202020,100)"
   ]
  },
  {
   "cell_type": "code",
   "execution_count": null,
   "metadata": {},
   "outputs": [],
   "source": []
  },
  {
   "cell_type": "code",
   "execution_count": 46,
   "metadata": {},
   "outputs": [
    {
     "data": {
      "text/plain": [
       "'221102'"
      ]
     },
     "execution_count": 46,
     "metadata": {},
     "output_type": "execute_result"
    }
   ],
   "source": [
    "# 은혜\n",
    "from isoweek import Week\n",
    "\n",
    "def postWeek(yearWeek, plusWeeks):\n",
    "    yearWeek = str(yearWeek)  \n",
    "    plusWeeks = int(plusWeeks)  \n",
    "\n",
    "    # 문자열 yearWeek를 split (year, week)\n",
    "    year = int(yearWeek[:4])   \n",
    "    week = int(yearWeek[4:])\n",
    "    \n",
    "    totalWeek = week + plusWeeks\n",
    "    \n",
    "    #조건문\n",
    "    if (totalWeek < Week.last_week_of_year(year).week):\n",
    "        week = totalWeek\n",
    "        \n",
    "    else:\n",
    "        while (totalWeek >= Week.last_week_of_year(year).week):\n",
    "            totalWeek = totalWeek - Week.last_week_of_year(year).week\n",
    "            year = year + 1\n",
    "            week = totalWeek\n",
    "            \n",
    "    # week값이 10미만일 경우 앞에 문자\"0\"을 추가함    \n",
    "    if (week < 10):\n",
    "        week = str(week)\n",
    "        week = \"0\" + week\n",
    "        \n",
    "    result = str(year) + str(week)\n",
    "    return result\n",
    "postWeek(201920,10000)"
   ]
  },
  {
   "cell_type": "code",
   "execution_count": null,
   "metadata": {},
   "outputs": [],
   "source": []
  }
 ],
 "metadata": {
  "kernelspec": {
   "display_name": "Python 3",
   "language": "python",
   "name": "python3"
  },
  "language_info": {
   "codemirror_mode": {
    "name": "ipython",
    "version": 3
   },
   "file_extension": ".py",
   "mimetype": "text/x-python",
   "name": "python",
   "nbconvert_exporter": "python",
   "pygments_lexer": "ipython3",
   "version": "3.8.3"
  }
 },
 "nbformat": 4,
 "nbformat_minor": 4
}
